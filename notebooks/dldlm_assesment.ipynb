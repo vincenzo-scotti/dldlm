{
 "cells": [
  {
   "cell_type": "markdown",
   "metadata": {
    "tags": []
   },
   "source": [
    "# Evaluation"
   ]
  },
  {
   "cell_type": "markdown",
   "metadata": {},
   "source": [
    "## Preliminaries"
   ]
  },
  {
   "cell_type": "markdown",
   "metadata": {},
   "source": [
    "### Imports"
   ]
  },
  {
   "cell_type": "code",
   "execution_count": 2,
   "metadata": {},
   "outputs": [],
   "source": [
    "import sys\n",
    "import os\n",
    "sys.path.append('./src')"
   ]
  },
  {
   "cell_type": "code",
   "execution_count": 3,
   "metadata": {},
   "outputs": [],
   "source": [
    "import pickle\n",
    "import bz2\n",
    "from collections import Counter"
   ]
  },
  {
   "cell_type": "code",
   "execution_count": 4,
   "metadata": {},
   "outputs": [],
   "source": [
    "from joblib import Parallel\n",
    "from joblib import delayed\n",
    "from joblib import parallel_backend"
   ]
  },
  {
   "cell_type": "code",
   "execution_count": 5,
   "metadata": {},
   "outputs": [],
   "source": [
    "%matplotlib inline\n",
    "from matplotlib import pyplot as plt\n",
    "import seaborn as sns"
   ]
  },
  {
   "cell_type": "code",
   "execution_count": 6,
   "metadata": {},
   "outputs": [],
   "source": [
    "from nltk.tokenize import word_tokenize\n",
    "from nltk.corpus import stopwords\n",
    "import string"
   ]
  },
  {
   "cell_type": "code",
   "execution_count": 7,
   "metadata": {},
   "outputs": [],
   "source": [
    "import pandas as pd"
   ]
  },
  {
   "cell_type": "code",
   "execution_count": 8,
   "metadata": {},
   "outputs": [],
   "source": [
    "from sklearn.feature_extraction.text import TfidfVectorizer, CountVectorizer\n",
    "from sklearn.decomposition import LatentDirichletAllocation, TruncatedSVD\n",
    "from sklearn.metrics import (\n",
    "    homogeneity_score,\n",
    "    completeness_score,\n",
    "    v_measure_score,\n",
    "    silhouette_score,\n",
    "    calinski_harabasz_score,\n",
    ")"
   ]
  },
  {
   "cell_type": "code",
   "execution_count": 9,
   "metadata": {},
   "outputs": [],
   "source": [
    "import numpy as np"
   ]
  },
  {
   "cell_type": "code",
   "execution_count": 10,
   "metadata": {},
   "outputs": [
    {
     "name": "stderr",
     "output_type": "stream",
     "text": [
      "/home/vincenzo/anaconda3/envs/dldlm/lib/python3.10/site-packages/tqdm/auto.py:22: TqdmWarning: IProgress not found. Please update jupyter and ipywidgets. See https://ipywidgets.readthedocs.io/en/stable/user_install.html\n",
      "  from .autonotebook import tqdm as notebook_tqdm\n"
     ]
    }
   ],
   "source": [
    "import torch"
   ]
  },
  {
   "cell_type": "code",
   "execution_count": 11,
   "metadata": {},
   "outputs": [],
   "source": [
    "import random"
   ]
  },
  {
   "cell_type": "markdown",
   "metadata": {},
   "source": [
    "### Constants and global variables"
   ]
  },
  {
   "cell_type": "code",
   "execution_count": 30,
   "metadata": {},
   "outputs": [],
   "source": [
    "SPLITS = ('train', 'validation', 'test')\n",
    "MODELS = ('Pretrained', 'Fine-Tuned')\n",
    "DATA_SETS = ('DailyDialog', 'EmpatheticDialogues', 'Persona-Chat', 'Wizard of Wikipedia', 'HOPE', 'Counselling and Psychotherapy Transcripts Volume II')\n",
    "DISTRIBUTIONS = ('latent_prior_dist', 'latent_posterior_dist')"
   ]
  },
  {
   "cell_type": "code",
   "execution_count": 28,
   "metadata": {},
   "outputs": [],
   "source": [
    "DATA_PATH = '../resources/data/cache/'\n",
    "PROCESSED_DATA_PATHS = (\n",
    "    '../experiments/DLDLM_evaluation/dldlm_large_nllt_lda_lr_2022_11_19_16_46_13/data', \n",
    "    '../experiments/DLDLM_evaluation/dldlm_large_nllt_gibbs_2022_11_20_09_34_54/data'\n",
    ")"
   ]
  },
  {
   "cell_type": "code",
   "execution_count": 14,
   "metadata": {},
   "outputs": [],
   "source": [
    "N_LATENTS = 16"
   ]
  },
  {
   "cell_type": "code",
   "execution_count": 15,
   "metadata": {},
   "outputs": [],
   "source": [
    "N_COMPONENTS = 1280"
   ]
  },
  {
   "cell_type": "code",
   "execution_count": 16,
   "metadata": {},
   "outputs": [],
   "source": [
    "N_REPETITIONS = 100"
   ]
  },
  {
   "cell_type": "code",
   "execution_count": 17,
   "metadata": {},
   "outputs": [],
   "source": [
    "DISTRIBUTION_MAP = {'latent_prior_dist': 'Prior', 'latent_posterior_dist': 'Posterior'}"
   ]
  },
  {
   "cell_type": "code",
   "execution_count": 18,
   "metadata": {},
   "outputs": [],
   "source": [
    "TOP_WORDS = 20"
   ]
  },
  {
   "cell_type": "code",
   "execution_count": 19,
   "metadata": {},
   "outputs": [],
   "source": [
    "RANDOM_SEED = 2307"
   ]
  },
  {
   "cell_type": "markdown",
   "metadata": {},
   "source": [
    "### Random seed"
   ]
  },
  {
   "cell_type": "code",
   "execution_count": 20,
   "metadata": {},
   "outputs": [
    {
     "data": {
      "text/plain": [
       "<torch._C.Generator at 0x7f7fc2721f70>"
      ]
     },
     "execution_count": 20,
     "metadata": {},
     "output_type": "execute_result"
    }
   ],
   "source": [
    "random.seed(RANDOM_SEED)\n",
    "np.random.seed(RANDOM_SEED)\n",
    "torch.manual_seed(RANDOM_SEED)"
   ]
  },
  {
   "cell_type": "markdown",
   "metadata": {},
   "source": [
    "### Helper functions"
   ]
  },
  {
   "cell_type": "code",
   "execution_count": 21,
   "metadata": {},
   "outputs": [],
   "source": [
    "def load_data(path):\n",
    "    with bz2.BZ2File(path, 'r') as f:\n",
    "        data = pickle.load(f)\n",
    "    return data"
   ]
  },
  {
   "cell_type": "code",
   "execution_count": 22,
   "metadata": {},
   "outputs": [],
   "source": [
    "def is_same_sample(sample_a, sample_b):\n",
    "    return sample_a['corpus'] == sample_b['corpus'] and sample_a['conversation_idx'] == sample_b['conversation_idx'] and sample_a['turn_idx'] == sample_b['turn_idx']"
   ]
  },
  {
   "cell_type": "code",
   "execution_count": 41,
   "metadata": {},
   "outputs": [],
   "source": [
    "def fuzzy_jaccard_similarity(matrix_a, matrix_b):\n",
    "    return np.minimum(matrix_a.sum(axis=0), matrix_b.sum(axis=0)).sum() / np.maximum(matrix_a.sum(axis=0), matrix_b.sum(axis=0)).sum()"
   ]
  },
  {
   "cell_type": "markdown",
   "metadata": {},
   "source": [
    "## Data"
   ]
  },
  {
   "cell_type": "markdown",
   "metadata": {},
   "source": [
    "### Load data"
   ]
  },
  {
   "cell_type": "code",
   "execution_count": 31,
   "metadata": {},
   "outputs": [],
   "source": [
    "data = {\n",
    "    split: load_data(os.path.join(DATA_PATH, f'evaluation_corpus_{split}.pbz2')) for split in SPLITS\n",
    "}"
   ]
  },
  {
   "cell_type": "code",
   "execution_count": 32,
   "metadata": {},
   "outputs": [],
   "source": [
    "processed_data = {\n",
    "    model: {split: load_data(os.path.join(data_path, f'evaluation_output_{split}.pbz2')) for split in SPLITS[1:]}\n",
    "    for model, data_path in zip(MODELS, PROCESSED_DATA_PATHS)\n",
    "}"
   ]
  },
  {
   "cell_type": "code",
   "execution_count": 33,
   "metadata": {},
   "outputs": [],
   "source": [
    "assert all(\n",
    "    is_same_sample(s1, s2) and is_same_sample(s2, s3) \n",
    "    for s1, s2, s3 in zip(\n",
    "        data['validation'], \n",
    "        processed_data['Pretrained']['validation'], \n",
    "        processed_data['Fine-Tuned']['validation']\n",
    "    )\n",
    ")\n",
    "assert all(\n",
    "    is_same_sample(s1, s2) and is_same_sample(s2, s3) \n",
    "    for s1, s2, s3 in zip(\n",
    "        data['test'], \n",
    "        processed_data['Pretrained']['test'], \n",
    "        processed_data['Fine-Tuned']['test']\n",
    "    )\n",
    ")"
   ]
  },
  {
   "cell_type": "markdown",
   "metadata": {
    "tags": []
   },
   "source": [
    "### Preprocessing"
   ]
  },
  {
   "cell_type": "code",
   "execution_count": 34,
   "metadata": {},
   "outputs": [
    {
     "name": "stderr",
     "output_type": "stream",
     "text": [
      "/home/vincenzo/anaconda3/envs/dldlm/lib/python3.10/site-packages/sklearn/feature_extraction/text.py:524: UserWarning: The parameter 'token_pattern' will not be used since 'tokenizer' is not None'\n",
      "  warnings.warn(\n",
      "/home/vincenzo/anaconda3/envs/dldlm/lib/python3.10/site-packages/sklearn/feature_extraction/text.py:404: UserWarning: Your stop_words may be inconsistent with your preprocessing. Tokenizing the stop words generated tokens [\"'d\", \"'ll\", \"'re\", \"'s\", \"'ve\", '``', 'could', 'might', 'must', \"n't\", 'need', 'sha', 'wo', 'would'] not in stop_words.\n",
      "  warnings.warn(\n"
     ]
    }
   ],
   "source": [
    "tfidf = TfidfVectorizer(\n",
    "    tokenizer=word_tokenize, \n",
    "    stop_words=set(stopwords.words('english')) | set(string.punctuation), \n",
    "    max_df=0.95, \n",
    "    min_df=2,\n",
    "    # stop_words='english'\n",
    ").fit([sample['response'] for split, samples in data.items() for sample in samples])  # Note that data samples are the same"
   ]
  },
  {
   "cell_type": "markdown",
   "metadata": {},
   "source": [
    "## Generator model analysis"
   ]
  },
  {
   "cell_type": "markdown",
   "metadata": {},
   "source": [
    "### Single corpora"
   ]
  },
  {
   "cell_type": "code",
   "execution_count": null,
   "metadata": {},
   "outputs": [],
   "source": [
    "for model, splits in processed_data.items():\n",
    "    for split, samples in splits.items()\n",
    "        print(model, split.capitalize())\n",
    "        for corpus in DATA_SETS:\n",
    "            ppl = np.array([sample['ppl'] for sample in samples if sample['corpus'] == corpus])\n",
    "            print(f'\\t{corpus}', f'{ppl.mean():.2f}', f'{ppl.std():.2f}')"
   ]
  },
  {
   "cell_type": "markdown",
   "metadata": {},
   "source": [
    "### All corpora"
   ]
  },
  {
   "cell_type": "code",
   "execution_count": null,
   "metadata": {},
   "outputs": [],
   "source": [
    "for model, splits in processed_data.items():\n",
    "    for split, samples in splits.items()\n",
    "        print(model, split.capitalize())\n",
    "        ppl = np.array([sample['ppl'] for sample in samples])\n",
    "        print('\\tTotal', f'{ppl.mean():.2f}', f'{ppl.std():.2f}')"
   ]
  },
  {
   "cell_type": "markdown",
   "metadata": {},
   "source": [
    "### Latex"
   ]
  },
  {
   "cell_type": "code",
   "execution_count": null,
   "metadata": {},
   "outputs": [],
   "source": [
    "for corpus in DATA_SETS:\n",
    "    values = []\n",
    "    for model, splits in processed_data.items():\n",
    "        for split, samples in splits.items()\n",
    "            ppl = np.array([sample['ppl'] for sample in samples if sample['corpus'] == corpus])\n",
    "            values.append(f'{ppl.mean():.2f} \\pm {ppl.std():.2f}')\n",
    "    print(f'\\\\mathbf{{{corpus}}}', *values, sep=' & ', end='\\\\\\\\\\n')\n",
    "print('\\\\midrule')\n",
    "values = []\n",
    "for model, splits in processed_data.items():\n",
    "    for split, samples in splits.items()\n",
    "        ppl = np.array([sample['ppl'] for sample in samples])\n",
    "        values.append(f'{ppl.mean():.2f} \\pm {ppl.std():.2f}')\n",
    "print(f'\\\\mathbf{{{corpus}}}', *values, sep=' & ', end='\\\\\\\\\\n')"
   ]
  },
  {
   "cell_type": "markdown",
   "metadata": {
    "tags": []
   },
   "source": [
    "## Latent model analysis"
   ]
  },
  {
   "cell_type": "markdown",
   "metadata": {},
   "source": [
    "### Single corpora"
   ]
  },
  {
   "cell_type": "code",
   "execution_count": null,
   "metadata": {},
   "outputs": [],
   "source": [
    "latent_results = dict()\n",
    "\n",
    "for corpus in DATA_SETS:\n",
    "    latent_results[corpus] = dict()\n",
    "    for model, splits in processed_data.items():\n",
    "        latent_results[corpus][model] = dict()\n",
    "        for split, samples in splits.items():\n",
    "            latent_results[corpus][model][split] = dict()\n",
    "            X = tfidf.transform([sample['response'] for sample in samples if sample['corpus'] == corpus])\n",
    "            for distribution in DISTRIBUTIONS:\n",
    "                res_mat = np.ones((N_REPETITIONS, N_LATENTS, N_LATENTS))\n",
    "                probs = torch.tensor([sample[distribution] for sample in samples if sample['corpus'] == corpus])\n",
    "                z_pred = torch.argmax(probs, dim=1).numpy()\n",
    "                X_z = np.array([np.squeeze(np.asarray(X[z_pred == i].sum(axis=0))) for i in range(N_LATENTS)])\n",
    "                for repetition in range(N_REPETITIONS):\n",
    "                    z = torch.multinomial(probs, 1).squeeze().numpy()\n",
    "                    for i in range(N_LATENTS):\n",
    "                        for j in range(i + 1, N_LATENTS):\n",
    "                            res_mat[repetition, i, j] = res_mat[repetition, j, i] = fuzzy_jaccard_similarity(X[z == i], X[z == j])\n",
    "                scores = np.array([mat[[*zip(*[(i, j) for i in range(N_LATENTS) for j in range(i + 1, N_LATENTS)])]].mean() for mat in res_mat])\n",
    "                latent_results[corpus][model][split][DISTRIBUTION_MAP[distribution]] = {\n",
    "                    'avg': scores.mean(), \n",
    "                    'std': scores.std(), \n",
    "                    'mat': res_mat.mean(axis=0),\n",
    "                    'counts': [\n",
    "                        Counter({\n",
    "                            word: X_z_i[idx] \n",
    "                            for idx, word in zip(\n",
    "                                np.squeeze(np.asarray(X.sum(axis=0))).nonzero()[0], \n",
    "                                tfidf.inverse_transform(np.asarray(X.sum(axis=0)))\n",
    "                            )\n",
    "                        }) for X_z_i in X_z \n",
    "                    ]\n",
    "                }\n",
    "\n",
    "for corpus, corpus_results in latent_results.items():\n",
    "    for model, model_results in corpus_results.items():\n",
    "        for split, split_results in model_results.items():\n",
    "            print(model, split.capitalize(), corpus)\n",
    "            for distribution, distribution_results in split_results.items(): \n",
    "                print(f'\\t{distribution}', f'{distribution_results[\"avg\"]:.2f}', f'{distribution_results[\"std\"]:.2f}')"
   ]
  },
  {
   "cell_type": "markdown",
   "metadata": {},
   "source": [
    "### All corpora"
   ]
  },
  {
   "cell_type": "code",
   "execution_count": null,
   "metadata": {},
   "outputs": [],
   "source": [
    "corpus = 'Total'\n",
    "latent_results[corpus] = dict()\n",
    "for model, splits in processed_data.items():\n",
    "    latent_results[corpus][model] = dict()\n",
    "    for split, samples in splits.items():\n",
    "        latent_results[corpus][model][split] = dict()\n",
    "        probs = torch.tensor([sample[distribution] for sample in samples])\n",
    "        X = tfidf.transform([sample['response'] for sample in samples])\n",
    "        z_pred = torch.argmax(probs, dim=1).numpy()\n",
    "        X_z = np.array([np.squeeze(np.asarray(X[z_pred == i].sum(axis=0))) for i in range(N_LATENTS)])\n",
    "        for distribution in DISTRIBUTIONS:\n",
    "            res_mat = np.ones(N_REPETITIONS, N_LATENTS, N_LATENTS)\n",
    "            for repetition in range(N_REPETITIONS):\n",
    "                z = torch.multinomial(probs, 1).squeeze().numpy()\n",
    "                for i in range(N_LATENTS):\n",
    "                    for j in range(i + 1, N_LATENTS):\n",
    "                        res_mat[repetition, i, j] = res[repetition, j, i] = fuzzy_jaccard_similarity(X[z == i], X[z == j])\n",
    "            scores = np.array([mat[[*zip(*[(i, j) for i in range(N_LATENTS) for j in range(i + 1, N_LATENTS)])]].mean() for mat in res_mat])\n",
    "            latent_results[corpus][model][split][DISTRIBUTION_MAP[distribution]] = {\n",
    "                'avg': scores.mean(), \n",
    "                'std': scores.std(), \n",
    "                'mat': res_mat.mean(axis=0),\n",
    "                'counts': [\n",
    "                    Counter({\n",
    "                        word: X_z_i[idx] \n",
    "                        for idx, word in zip(\n",
    "                            np.squeeze(np.asarray(X.sum(axis=0))).nonzero()[0], \n",
    "                            tfidf.inverse_transform(np.asarray(X.sum(axis=0)))\n",
    "                        )\n",
    "                    }) for X_z_i in X_z \n",
    "                ]\n",
    "            }\n",
    "\n",
    "for model, model_results in latent_results[corpus].items():\n",
    "    for split, split_results in model_results.items():\n",
    "        print(model, split.capitalize(), corpus)\n",
    "        for distribution, distribution_results in split_results.items(): \n",
    "            print(f'\\t{distribution}', f'{distribution_results[\"avg\"]:.2f}', f'{distribution_results[\"std\"]:.2f}')"
   ]
  },
  {
   "cell_type": "markdown",
   "metadata": {},
   "source": [
    "### Latex"
   ]
  },
  {
   "cell_type": "code",
   "execution_count": null,
   "metadata": {},
   "outputs": [],
   "source": [
    "for corpus, corpus_results in latent_results.items():\n",
    "    values = []\n",
    "    for model, model_results in corpus_results.items():\n",
    "        for split, split_results in model_results.items():\n",
    "            if corpus == 'Total':\n",
    "                print('\\\\midrule')\n",
    "            for distribution, distribution_results in split_results.items(): \n",
    "                values.append(f'{distribution_results['avg']:.2f} \\pm {distribution_results['std']:.2f}')\n",
    "    print(f'\\\\mathbf{{{corpus}}}', *values, sep=' & ', end='\\\\\\\\\\n')"
   ]
  },
  {
   "cell_type": "markdown",
   "metadata": {},
   "source": [
    "### Visualisations"
   ]
  },
  {
   "cell_type": "markdown",
   "metadata": {},
   "source": [
    "#### All corpora"
   ]
  },
  {
   "cell_type": "code",
   "execution_count": null,
   "metadata": {},
   "outputs": [],
   "source": [
    "for corpus in ['Total', 'HOPE', 'Counselling and Psychotherapy Transcripts Volume II']:\n",
    "    for model in MODELS:\n",
    "        fig = plt.figure(figsize=(6, 6))\n",
    "        sns.heatmap(latent_results[corpus][model]['test']['Posterior']['mat'], vmin=0., vmax=1., annot=True, xticklabels=[str(i + 1) for i in range(N_LATENTS)], yticklabels=[str(i + 1) for i in range(N_LATENTS)], cmap='Blues', cbar=False)\n",
    "        plt.xlabel('Latent code')\n",
    "        plt.ylabel('Latent code')\n",
    "        plt.show()\n",
    "        \n",
    "        # fig.savefig(f'test_jaccard_cm_{model.lower().replace('-', '_')}_{corpus.lower().replace(' ', '_')}.pdf', bbox_inches='tight')"
   ]
  },
  {
   "cell_type": "code",
   "execution_count": null,
   "metadata": {},
   "outputs": [],
   "source": [
    "for corpus in ['Total', 'HOPE', 'Counselling and Psychotherapy Transcripts Volume II']:\n",
    "    for model in MODELS:\n",
    "        fig, axes = plt.subplots(nrows=int(math.ceil(N_LATENTS / (N_LATENTS // 4))), ncols=N_LATENTS // 4, figsize=(24, 24))\n",
    "        z_idx = 0\n",
    "        for i in range(int(math.ceil(N_LATENTS / (N_LATENTS // 4)))):\n",
    "            for j in range(N_LATENTS // 4):\n",
    "                x, y = [*zip(*latent_results[corpus][model]['test']['Posterior']['counts'][z_idx].most_common(TOP_WORDS))]\n",
    "                y = vocabulary[idxs]\n",
    "                axes[i][j].barh(y, x, linewidth=1., edgecolor='0')\n",
    "                axes[i][j].set_title(f'Latent code: {z_idx + 1}')\n",
    "                axes[i][j].set_xlabel('Cumulative TF-IDF')\n",
    "                axes[i][j].set_ylabel('Word')\n",
    "                z_idx += 1\n",
    "        plt.tight_layout()\n",
    "        plt.show()\n",
    "    \n",
    "        # fig.savefig(f'test_top_words_{model.lower().replace('-', '_')}_{corpus.lower().replace(' ', '_')}.pdf', bbox_inches='tight')"
   ]
  },
  {
   "cell_type": "code",
   "execution_count": null,
   "metadata": {},
   "outputs": [],
   "source": []
  },
  {
   "cell_type": "code",
   "execution_count": null,
   "metadata": {},
   "outputs": [],
   "source": []
  }
 ],
 "metadata": {
  "kernelspec": {
   "display_name": "Python 3 (ipykernel)",
   "language": "python",
   "name": "python3"
  },
  "language_info": {
   "codemirror_mode": {
    "name": "ipython",
    "version": 3
   },
   "file_extension": ".py",
   "mimetype": "text/x-python",
   "name": "python",
   "nbconvert_exporter": "python",
   "pygments_lexer": "ipython3",
   "version": "3.10.4"
  }
 },
 "nbformat": 4,
 "nbformat_minor": 4
}
