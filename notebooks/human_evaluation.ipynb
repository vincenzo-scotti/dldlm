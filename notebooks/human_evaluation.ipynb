{
 "cells": [
  {
   "cell_type": "markdown",
   "metadata": {
    "pycharm": {
     "name": "#%% md\n"
    }
   },
   "source": [
    "# Evaluation"
   ]
  },
  {
   "cell_type": "markdown",
   "metadata": {},
   "source": [
    "## Preliminaries"
   ]
  },
  {
   "cell_type": "markdown",
   "metadata": {},
   "source": [
    "### Imports"
   ]
  },
  {
   "cell_type": "code",
   "execution_count": 1,
   "metadata": {
    "collapsed": false,
    "jupyter": {
     "outputs_hidden": false
    },
    "pycharm": {
     "name": "#%%\n"
    }
   },
   "outputs": [],
   "source": [
    "import sys\n",
    "import os\n",
    "sys.path.append('./src')"
   ]
  },
  {
   "cell_type": "code",
   "execution_count": 2,
   "metadata": {
    "collapsed": false,
    "jupyter": {
     "outputs_hidden": false
    },
    "pycharm": {
     "name": "#%%\n"
    }
   },
   "outputs": [],
   "source": [
    "import pickle\n",
    "import bz2"
   ]
  },
  {
   "cell_type": "code",
   "execution_count": 3,
   "metadata": {
    "collapsed": false,
    "jupyter": {
     "outputs_hidden": false
    },
    "pycharm": {
     "name": "#%%\n"
    }
   },
   "outputs": [],
   "source": [
    "import pandas as pd"
   ]
  },
  {
   "cell_type": "code",
   "execution_count": 4,
   "metadata": {
    "collapsed": false,
    "jupyter": {
     "outputs_hidden": false
    },
    "pycharm": {
     "name": "#%%\n"
    }
   },
   "outputs": [
    {
     "name": "stderr",
     "output_type": "stream",
     "text": [
      "/home/vincenzo/anaconda3/envs/dldlm/lib/python3.10/site-packages/tqdm/auto.py:22: TqdmWarning: IProgress not found. Please update jupyter and ipywidgets. See https://ipywidgets.readthedocs.io/en/stable/user_install.html\n",
      "  from .autonotebook import tqdm as notebook_tqdm\n"
     ]
    }
   ],
   "source": [
    "from dldlm.chatbot_api.chatbot import DLDLMChatbot"
   ]
  },
  {
   "cell_type": "code",
   "execution_count": 5,
   "metadata": {
    "collapsed": false,
    "jupyter": {
     "outputs_hidden": false
    },
    "pycharm": {
     "name": "#%%\n"
    }
   },
   "outputs": [],
   "source": [
    "import numpy as np"
   ]
  },
  {
   "cell_type": "code",
   "execution_count": 6,
   "metadata": {
    "collapsed": false,
    "jupyter": {
     "outputs_hidden": false
    },
    "pycharm": {
     "name": "#%%\n"
    }
   },
   "outputs": [],
   "source": [
    "import torch"
   ]
  },
  {
   "cell_type": "code",
   "execution_count": 7,
   "metadata": {
    "collapsed": false,
    "jupyter": {
     "outputs_hidden": false
    },
    "pycharm": {
     "name": "#%%\n"
    }
   },
   "outputs": [],
   "source": [
    "import random"
   ]
  },
  {
   "cell_type": "markdown",
   "metadata": {
    "pycharm": {
     "name": "#%% md\n"
    }
   },
   "source": [
    "### Constants"
   ]
  },
  {
   "cell_type": "code",
   "execution_count": 8,
   "metadata": {
    "collapsed": false,
    "jupyter": {
     "outputs_hidden": false
    },
    "pycharm": {
     "name": "#%%\n"
    }
   },
   "outputs": [],
   "source": [
    "DATA_PATH = '../resources/data/cache/'"
   ]
  },
  {
   "cell_type": "code",
   "execution_count": 9,
   "metadata": {
    "collapsed": false,
    "jupyter": {
     "outputs_hidden": false
    },
    "pycharm": {
     "name": "#%%\n"
    }
   },
   "outputs": [],
   "source": [
    "DF_COLUMNS = ['Split', 'Corpus', 'Conversation ID', 'Turn IDX', 'Speaker', 'Utterance']\n",
    "OUT_DF_COLUMNS = ['Split', 'Corpus', 'Conversation ID', 'Turn IDX', 'Speaker', 'Context', 'Utterance', 'Label']"
   ]
  },
  {
   "cell_type": "code",
   "execution_count": 10,
   "metadata": {
    "collapsed": false,
    "jupyter": {
     "outputs_hidden": false
    },
    "pycharm": {
     "name": "#%%\n"
    }
   },
   "outputs": [],
   "source": [
    "# GENERATE_KWARGS = {'top_p': 1.0, 'top_k': 0, 'temperature': 0.95, 'do_sample': True}\n",
    "# GENERATE_KWARGS = {'top_p': 0.95, 'top_k': 0, 'temperature': 1.0, 'do_sample': True}\n",
    "# GENERATE_KWARGS = {'top_p': 1.0, 'top_k': 4, 'temperature': 1.0, 'do_sample': False, 'penalty_alpha': 0.6}\n",
    "GENERATE_KWARGS = {'top_p': 1.0, 'top_k': 0, 'temperature': 0.7, 'do_sample': True}"
   ]
  },
  {
   "cell_type": "code",
   "execution_count": 11,
   "metadata": {
    "collapsed": false,
    "jupyter": {
     "outputs_hidden": false
    },
    "pycharm": {
     "name": "#%%\n"
    }
   },
   "outputs": [],
   "source": [
    "N_SAMPLES = 20"
   ]
  },
  {
   "cell_type": "code",
   "execution_count": 12,
   "metadata": {
    "collapsed": false,
    "jupyter": {
     "outputs_hidden": false
    },
    "pycharm": {
     "name": "#%%\n"
    }
   },
   "outputs": [],
   "source": [
    "RANDOM_SEED = 2307"
   ]
  },
  {
   "cell_type": "markdown",
   "metadata": {},
   "source": [
    "### Random seed"
   ]
  },
  {
   "cell_type": "code",
   "execution_count": 13,
   "metadata": {
    "collapsed": false,
    "jupyter": {
     "outputs_hidden": false
    },
    "pycharm": {
     "name": "#%%\n"
    }
   },
   "outputs": [
    {
     "data": {
      "text/plain": [
       "<torch._C.Generator at 0x7f30ea4ba3f0>"
      ]
     },
     "execution_count": 13,
     "metadata": {},
     "output_type": "execute_result"
    }
   ],
   "source": [
    "random.seed(RANDOM_SEED)\n",
    "np.random.seed(RANDOM_SEED)\n",
    "torch.manual_seed(RANDOM_SEED)"
   ]
  },
  {
   "cell_type": "markdown",
   "metadata": {
    "pycharm": {
     "name": "#%% md\n"
    }
   },
   "source": [
    "## Data"
   ]
  },
  {
   "cell_type": "markdown",
   "metadata": {
    "pycharm": {
     "name": "#%% md\n"
    }
   },
   "source": [
    "### Load data"
   ]
  },
  {
   "cell_type": "code",
   "execution_count": 14,
   "metadata": {
    "collapsed": false,
    "jupyter": {
     "outputs_hidden": false
    },
    "pycharm": {
     "name": "#%%\n"
    }
   },
   "outputs": [],
   "source": [
    "with bz2.BZ2File(os.path.join(DATA_PATH, 'evaluation_corpus_test.pbz2'), 'r') as f:\n",
    "    data = pickle.load(f)"
   ]
  },
  {
   "cell_type": "markdown",
   "metadata": {
    "pycharm": {
     "name": "#%% md\n"
    }
   },
   "source": [
    "### Convert to Data Frame"
   ]
  },
  {
   "cell_type": "code",
   "execution_count": 15,
   "metadata": {
    "collapsed": false,
    "jupyter": {
     "outputs_hidden": false
    },
    "pycharm": {
     "name": "#%%\n"
    }
   },
   "outputs": [],
   "source": [
    "df = pd.DataFrame(\n",
    "    [\n",
    "        (\n",
    "            sample['split'],\n",
    "            sample['corpus'],\n",
    "            sample['conversation_idx'],\n",
    "            sample['turn_idx'],\n",
    "            sample['speaker'],\n",
    "            sample['response']\n",
    "        )\n",
    "        for sample in data\n",
    "        if sample['corpus'] == 'HOPE'\n",
    "    ],\n",
    "    columns=DF_COLUMNS\n",
    ").sort_values(by=['Conversation ID', 'Turn IDX'])"
   ]
  },
  {
   "cell_type": "markdown",
   "metadata": {
    "pycharm": {
     "name": "#%% md\n"
    }
   },
   "source": [
    "### Randomly subsample conversations"
   ]
  },
  {
   "cell_type": "code",
   "execution_count": 16,
   "metadata": {
    "collapsed": false,
    "jupyter": {
     "outputs_hidden": false
    },
    "pycharm": {
     "name": "#%%\n"
    }
   },
   "outputs": [],
   "source": [
    "conversation_ids = df['Conversation ID'].unique()\n",
    "np.random.shuffle(conversation_ids)\n",
    "conversation_ids = conversation_ids[:N_SAMPLES]\n",
    "\n",
    "df = df[df['Conversation ID'].isin(conversation_ids)]"
   ]
  },
  {
   "cell_type": "markdown",
   "metadata": {},
   "source": [
    "## Models"
   ]
  },
  {
   "cell_type": "code",
   "execution_count": 17,
   "metadata": {
    "collapsed": false,
    "jupyter": {
     "outputs_hidden": false
    },
    "pycharm": {
     "name": "#%%\n"
    }
   },
   "outputs": [],
   "source": [
    "chatbot = DLDLMChatbot(\n",
    "  '../resources/models/dldlm',\n",
    "  max_context_len=256,\n",
    "  max_response_len=128,\n",
    "  generate_kwargs=GENERATE_KWARGS\n",
    ")\n",
    "chatbot.nn_model = chatbot.nn_model.to(torch.device('cuda'))"
   ]
  },
  {
   "cell_type": "code",
   "execution_count": 18,
   "metadata": {
    "collapsed": false,
    "jupyter": {
     "outputs_hidden": false
    },
    "pycharm": {
     "name": "#%%\n"
    }
   },
   "outputs": [],
   "source": [
    "therabot = DLDLMChatbot(\n",
    "  '../resources/models/therabot',\n",
    "  max_context_len=256,\n",
    "  max_response_len=128,\n",
    "  generate_kwargs=GENERATE_KWARGS\n",
    ")\n",
    "therabot.nn_model = therabot.nn_model.to(torch.device('cuda'))"
   ]
  },
  {
   "cell_type": "markdown",
   "metadata": {
    "pycharm": {
     "name": "#%% md\n"
    }
   },
   "source": [
    "## Evaluation data preparation"
   ]
  },
  {
   "cell_type": "markdown",
   "metadata": {
    "pycharm": {
     "name": "#%% md\n"
    }
   },
   "source": [
    "### Responses generation"
   ]
  },
  {
   "cell_type": "code",
   "execution_count": 19,
   "metadata": {
    "collapsed": false,
    "jupyter": {
     "outputs_hidden": false
    },
    "pycharm": {
     "name": "#%%\n"
    }
   },
   "outputs": [],
   "source": [
    "out_data = []"
   ]
  },
  {
   "cell_type": "code",
   "execution_count": 20,
   "metadata": {
    "collapsed": false,
    "jupyter": {
     "outputs_hidden": false
    },
    "pycharm": {
     "name": "#%%\n"
    }
   },
   "outputs": [],
   "source": [
    "# Iterate over dialogues\n",
    "for i, (dialogue_id, dialogue) in enumerate(df.groupby('Conversation ID', sort=False)):\n",
    "    # Sample reference turn\n",
    "    s_idx = int(len(dialogue) * (0.15 if i % 2 == 0 else 0.45))\n",
    "    e_idx = int(len(dialogue) * (0.25 if i % 2 == 0 else 0.55))\n",
    "    reference_turn = dialogue[\n",
    "        (dialogue['Speaker'] == 'Therapist') & (dialogue['Turn IDX'] >= s_idx) & (dialogue['Turn IDX'] < e_idx)\n",
    "    ].sample(1).iloc[0]\n",
    "    # Turn metadata\n",
    "    split = reference_turn['Split']\n",
    "    corpus = reference_turn['Corpus']\n",
    "    turn_idx = reference_turn['Turn IDX']\n",
    "    # Prepare dialogue history\n",
    "    history = [turn['Utterance'] for _, turn in dialogue[dialogue['Turn IDX'] < turn_idx].iterrows()]\n",
    "    # Prepare context\n",
    "    context = '\\n'.join(\n",
    "        f\"{turn['Speaker']}: {turn['Utterance']}\"\n",
    "        for _, turn in dialogue[dialogue['Turn IDX'] < turn_idx].iterrows()\n",
    "    ) + '\\n' + 'Therapist: ...'\n",
    "    # Prepare original response\n",
    "    response = reference_turn['Utterance']\n",
    "    # Generate response with base model\n",
    "    response_baseline = chatbot(history)\n",
    "    # Generate response with fine-tuned model\n",
    "    response_therabot = therabot(history)\n",
    "    # Add original and generated responses to output data\n",
    "    out_data.append((split, corpus, dialogue_id, turn_idx, 'Therapist', context, response, 'Ground truth'))\n",
    "    out_data.append((split, corpus, dialogue_id, turn_idx, 'Therapist', context, response_baseline, 'DLDLM'))\n",
    "    out_data.append((split, corpus, dialogue_id, turn_idx, 'Therapist', context, response_therabot, 'TheraBot'))"
   ]
  },
  {
   "cell_type": "code",
   "execution_count": 21,
   "metadata": {
    "collapsed": false,
    "jupyter": {
     "outputs_hidden": false
    },
    "pycharm": {
     "name": "#%%\n"
    }
   },
   "outputs": [],
   "source": [
    "out_df = pd.DataFrame(out_data, columns=OUT_DF_COLUMNS)"
   ]
  },
  {
   "cell_type": "markdown",
   "metadata": {
    "pycharm": {
     "name": "#%% md\n"
    }
   },
   "source": [
    "### Display data"
   ]
  },
  {
   "cell_type": "code",
   "execution_count": 22,
   "metadata": {
    "collapsed": false,
    "jupyter": {
     "outputs_hidden": false
    },
    "pycharm": {
     "name": "#%%\n"
    }
   },
   "outputs": [
    {
     "name": "stdout",
     "output_type": "stream",
     "text": [
      "--------\n",
      "Therapist: Hi Angela, how are you doing today ?\n",
      "Patient: I am all right,\n",
      "Therapist: you, all right ?\n",
      "Patient: Yeah. There's been some changes in my life but um, yeah.\n",
      "Therapist: Good changes ?\n",
      "Patient: Uhh Not really.\n",
      "Therapist: Not really.\n",
      "Patient: Yeah.\n",
      "Therapist: What kind of changes ?\n",
      "Patient: You know, just, you know, uh, you know, I lost my job. So, things are kinda you know, dominal effects from that. So,\n",
      "Therapist: so there's been consequences from those in your job.\n",
      "Patient: Yeah, I mean, obviously, that's, you know, you have a job. So you can take care of certain things. So, yeah,\n",
      "Therapist: like what things ?\n",
      "Patient: like you know like paying your bills and that's pretty much it. I guess that's really why most people have a job.\n",
      "Therapist: See, you've been unable to pay your bills.\n",
      "Patient: Yeah, yeah, definitely.\n",
      "Therapist: How's your mood overall?\n",
      "Patient: I mean, what can I say I lost my job. I'm seeing you because I have a drinking problem. So things are not that great.\n",
      "Therapist: Things are not great ?\n",
      "Patient: No.\n",
      "Therapist: Tell me what the drinking now has been gone.\n",
      "Patient: I drink a lot.\n",
      "Therapist: Ummm\n",
      "Patient: I always say to myself that I'll try to drink less but at this point, it's kind of like what have I got to lose? You know\n",
      "Therapist: You're drinking more ?\n",
      "Patient: Yeah, yeah, yeah\n",
      "Therapist: a lot more ?\n",
      "Patient: Yeah, I mean, not a lot more I mean, I guess I have more free time now so\n",
      "Therapist: ...\n",
      "\n",
      "\n",
      "Therapist: cuz now you don't have a job\n",
      "\n",
      "\n",
      "Therapist: You used to always drink so much.\n",
      "\n",
      "\n",
      "Therapist: And I don't know what that means.\n",
      "--------\n",
      "--------\n",
      "Therapist: Hi George, how you doing today?\n",
      "Patient: Okay.\n",
      "Therapist: I'd like to give you a test that measures your thinking and memory. Is that okay with you?\n",
      "Patient: Yeah.\n",
      "Therapist: So ask if you have questions and if you could answer as best as you can that would appreciate.\n",
      "Patient: Okay.\n",
      "Therapist: What's today's date?\n",
      "Patient: today? Today is 15\n",
      "Therapist: 15th. What is today's year?\n",
      "Patient: Aaah 15th\n",
      "Therapist: What is the month ?\n",
      "Patient: June\n",
      "Therapist: and what day is today?\n",
      "Patient: It's Thursday.\n",
      "Therapist: Can you also tell me what season it is?\n",
      "Patient: It's hot. It's summer.\n",
      "Therapist: Can you tell me the name of the building that we're in right now?\n",
      "Patient: No.\n",
      "Therapist: What floor Are we on?\n",
      "Patient: Hard floor is hard.\n",
      "Therapist: What city are we in?\n",
      "Patient: New York ?\n",
      "Therapist: What County are we in ?\n",
      "Patient: New Castle\n",
      "Therapist: What state are we in ?\n",
      "Patient: Pennsylvania ?\n",
      "Therapist: George when I asked you to say some objects back to me. Repeat some objects back to me. They are ball, flag tree. Can you repeat those back to me?\n",
      "Patient: Well, flower, plant\n",
      "Therapist: ...\n",
      "\n",
      "\n",
      "Therapist: I would like you to begin with the number 100 and count backward by seven. And I'll let you know when to stop. Go ahead.\n",
      "\n",
      "\n",
      "Therapist: Yes.\n",
      "\n",
      "\n",
      "Therapist: And what does that mean?\n",
      "--------\n",
      "--------\n",
      "Therapist: Jason, how you doing, sir?\n",
      "Patient: Okay.\n",
      "Therapist: You all right?\n",
      "Patient: I'm just here.\n",
      "Therapist: You're just here, just here. I understand that you're in the hospital a couple weeks ago.\n",
      "Patient: Yeah, I was in the hospital about two weeks ago did something and I had to go to the hospital afterwards.\n",
      "Therapist: What happened?\n",
      "Patient: yeah, so about two weeks ago, I was finishing up this wonderful machine that I was creating in my room, so that the government can't hear my thoughts or my, my actions or my behaviors. And I was just trying to finish up my last little bit that I needed to build and I went over to the neighbor, because their garage was open and just picked out a tool and brought it back to the house. And when I was in the house working on my my room, the cops came and picked me up and took me to the hospital. So it's like, see the government data to get\n",
      "Therapist: what you think the government is trying to do.\n",
      "Patient: They're trying to stop me from actually creating my room. Because they're, they're creating this new order where they want everybody to follow them. And I'm not a follower. And I know what I want. And I know what I need. And I know what my family wants, and I know what they need. And I'm just trying to protect them by creating my room.\n",
      "Therapist: And tell me about your room. What what are you doing there that makes that special.\n",
      "Patient: So I was smart enough to know that there are frequencies and waves that are out there that the government is actually sending you through the lights and also through the TV and like through every electronic apparatus that is out there. And I'm actually creating doll or a wave neutralizer so that it can actually stop that from happening. So that you can actually live the life that you want and be happy and youthful and joyful all the time.\n",
      "Therapist: ...\n",
      "\n",
      "\n",
      "Therapist: And I can see you are creating a doll.\n",
      "\n",
      "\n",
      "Therapist: Wow that sounds cool.\n",
      "\n",
      "\n",
      "Therapist: Is that how you were feeling when you were building?\n",
      "--------\n",
      "--------\n",
      "Therapist: Afternoon. I'm glad you could get in today.\n",
      "Patient: I'm still anxious.\n",
      "Therapist: Yes, last week when you were and you were telling me that you were experiencing great anxiety, and we had developed a plan a plan for your anxiety. And according to my notes, you were going to look into some yoga classes. You were going to attempt to drink less coffee. You were going to get out more with people because you were kind of isolating yourself in the home, and you were going to spend more time in nature. So I'm wondering how all that went?\n",
      "Patient: Well, I looked at the gym and there weren't really any yoga classes, so I didn't I didn't really do that. I did cut back on my coffee a little bit, but I just find that it wakes me up in the morning. So, you know, I've cut back to one cup instead of two cups. And I did take the dog for a walk. But I haven't really gotten out other than that.\n",
      "Therapist: Okay, so it sounds like you've made some movement forward towards your goals. You did at least look into yoga even though the gym didn't have yoga classes. You did cut down from two cups of coffee to one. And you did get out with your dog in nature for a walk. But it sounds like you had a little bit of an issue. Getting out more with people.\n",
      "Patient: Yeah, I don't. I don't really like to go out with people. There's usually a lot of a lot of chatter, a lot of talking and it's hard for me to be in.\n",
      "Therapist: So it's uncomfortable for you to be To around people with all the speaking and chatting and talking, and how does that make you feel?\n",
      "Patient: It just makes me feel a little bit nervous. And then when I get out there, I don't really, I don't really engage in conversation.\n",
      "Therapist: Okay, so actually getting out with people actually makes you even more anxious. So I'm wondering what we could do about that.\n",
      "Patient: I'm not really sure maybe I could invite people over instead.\n",
      "Therapist: That would absolutely be one option. You could invite people over to your house, and then you could get to choose who you're around.\n",
      "Patient: Yeah, that's a good idea.\n",
      "Therapist: And in terms of the yoga, let's get back to the yoga for a minute. Tell me more about where you looked for yoga classes.\n",
      "Patient: Well, I just looked at my gym. I didn't really look anywhere else because I'm already paying To go to a gym, and I don't really want to pay extra to go somewhere else. So that's why I didn't really look anywhere else.\n",
      "Therapist: Mm hmm. And so if I were to ask you right now, how motivated are you to find a yoga class on a scale of one to 10?\n",
      "Patient: Maybe about a five or six.\n",
      "Therapist: Okay.\n",
      "Patient: Um, well, I, I see all these pictures in my newsfeed about yoga and I see all these pictures and I just want to do it. So I'm interested in doing it, it's just really hard.\n",
      "Therapist: So when you see the pictures on your newsfeed, it makes you excited about doing it. But when you actually go to do it, it makes it more challenging.\n",
      "Patient: Well, I haven't done it before. So it's a little bit hard to get out there because I don't think I'm as flexible Other people?\n",
      "Therapist: Mm hmm. And so you're thinking that you're not as flexible as the other people. I'm wondering if that's what Yoga is about flexibility?\n",
      "Patient: Well, I think I think that people go to become flexible. But I think that maybe some people are already just flexible.\n",
      "Therapist: Mm hmm. So you are concerned that maybe you might not be as flexible as the rest?\n",
      "Patient: Yeah.\n",
      "Therapist: And you'd be a beginner?\n",
      "Patient: Well, I'm worried I wouldn't be able to do the poses in class.\n",
      "Therapist: Okay. So what do you think would happen if you couldn't do the poses in class?\n",
      "Patient: Well, I feel embarrassed, I think. And then if the teacher tried to get me to do it, and everybody else would see that they're trying to get me into a pose, and I think it would be embarrassing.\n",
      "Therapist: Okay. So you'd be embarrassed if you couldn't do the certain policies. And how would you feel if you could do all the poses in the class\n",
      "Patient: I think I feel really good.\n",
      "Therapist: And so what do you think it is preventing you from not doing all the poses in the class?\n",
      "Patient: Right? I guess it's just the embarrassment of maybe not being able to do it.\n",
      "Therapist: ...\n",
      "\n",
      "\n",
      "Therapist: Okay.\n",
      "\n",
      "\n",
      "Therapist: As you said, you're worried about not being able to do the certain policies.\n",
      "\n",
      "\n",
      "Therapist: What would what would cause you to not being able to do it?\n",
      "--------\n",
      "--------\n",
      "Therapist: How are you? Not well?\n",
      "Patient: No\n",
      "Therapist: what's going on.\n",
      "Patient: Well, remember I had told you that they were downsizing at my job.\n",
      "Therapist: I remember that.\n",
      "Patient: So I, you know, been there 20 years at my job. Yeah. And they're downsizing lately and they let me go.\n",
      "Therapist: That's terrible. I'm sorry to hear that.\n",
      "Patient: No, no, no. So yeah, it's just, you know, they let me go. I have really nothing to go on. I don't know what to do. I've been at that. job so long. I really don't know how to do anything else.\n",
      "Therapist: You should talk about the job. You're happy there.\n",
      "Patient: Yeah. I was, I thought, you know, I envision doing that job for a long time. So, you know,\n",
      "Therapist: and that's not gonna happen. No, no. How does this affect your financial outlook like your bills and such?\n",
      "Patient: Oh, it's awful. I mean, we definitely my husband and I, it's really spiraled out of control. My husband and I have kind of like, joint, we pay the bills together. And so this was half of our income, and that's gone. And because it was kind of more sudden, we didn't really have time to do anything else, you know, time to prepare.\n",
      "Therapist: ...\n",
      "\n",
      "\n",
      "Therapist: Oh, I see. You should probably consider looking for another job.\n",
      "\n",
      "\n",
      "Therapist: So it definitely caught you off guard. Do you have enough income with your husband's job to cover your basic bills?\n",
      "\n",
      "\n",
      "Therapist: Yeah.\n",
      "--------\n",
      "--------\n",
      "Therapist: All right, Chris, so I need to talk to you because as you know, we have a zero tolerance policy for drugs and alcohol at this school and as as athletic director, it's my job to check in with our student athletes and make sure everyone's adhering to that rule and I've been hearing some chatter from some other kids about party this weekend, and from what I hear while you were there, and you know, I can't confirm or deny anything. So I'm not at the point where I can give you consequences. But I do want to talk to you about whether or not you're drinking and how, you know, you really can't be doing this as a member of one of our teams.\n",
      "Patient: All right, actually, I do want to speak to you about something that happened during this past weekend. Usually, as you know, I'm an honor student, I usually am studying over the weekend, my parents told me go out to parties, but I kind of use that to my advantage to convince my parents to go to this party that my friends were pressuring me to go to. And when I when I got there, like, I'm not used to this like party environment, where everything that you see in the movies is kind of what happens where you have people just drinking out of the bottle or playing random games with alcohol just to get drunk for no reason. And because I was there in the moment, I felt pressured to do and conform to what everyone else is doing. So I wouldn't be I wouldn't be ostracized.\n",
      "Therapist: Oh, yeah, I get it. Like, we've all been there. Okay. You know, I was in high school one, too. You know, I drink too. I get it. There's not a ton to do in this town and kids drink but, you know, promise we have these rules and you're on a team, you have to stick by the rules.\n",
      "Patient: I know that. It's bad for me. It's bad for my body is bad for for, for for being on the team for being an athlete. it hinders my performance. Just I don't know, I feel that my friends pressured me. I don't know if I should, like, go with different friend groups. Maybe I don't know.\n",
      "Therapist: Yeah, Chris, come on. You're getting peer pressure.\n",
      "Patient: I don't know. Like, being in a sports team. You feel very, you have to, like, be unified with the group.\n",
      "Therapist: Yeah, well, you're one of the leaders.\n",
      "Patient: Right and as being one of the leaders, my fellow teammates expect me to be expected To lead not only in the sports but also in social environments. And if that's social, so social custom in our society, so\n",
      "Therapist: maybe you can start leading as a non drinker then\n",
      "Patient: I could, but that could also backfire on me. I feel that I could be ridiculed for being having the stick up my blood. You know,\n",
      "Therapist: ...\n",
      "\n",
      "\n",
      "Therapist: Yeah.\n",
      "\n",
      "\n",
      "Therapist: Yeah, well, you're got to be confident in yourself to lead.\n",
      "\n",
      "\n",
      "Therapist: you're a star player who's gonna pick on you.\n",
      "--------\n",
      "--------\n",
      "Therapist: Hi Chris\n",
      "Patient: Hi\n",
      "Therapist: Thanks for coming in today and filling out our survey. I wonder if it's okay, If I go over a couple of the things that that you answered in the survey?\n",
      "Patient: Yeah, that's fine.\n",
      "Therapist: ...\n",
      "\n",
      "\n",
      "Therapist: Okay. One of the things that that I noticed is that you are not using any kind of birth control right now.\n",
      "\n",
      "\n",
      "Therapist: What's the most important thing?\n",
      "\n",
      "\n",
      "Therapist: We will record that information in our database.\n",
      "--------\n",
      "--------\n",
      "Patient: In one day, and none of them worked and it was so it was so frustrating because I took so much time out of my work to go and I still couldn't find an appropriate placement for her\n",
      "Therapist: my advice would be for you or your daughter to at least and a week at the program.\n",
      "Patient: Again she needs to get the feel no we can't do that I there there's no way I can take her I can't I couldn't drag her back there. Either any of those programs.\n",
      "Therapist: So what are you looking for?\n",
      "Patient: I need your help to find a program that fits her\n",
      "Therapist: if I give you three more programs, Will that work?\n",
      "Patient: But But what if they don't work? How about if I\n",
      "Therapist: need to give it a chance you need to go and visit again.\n",
      "Patient: I know\n",
      "Therapist: at least whenever out of your busy schedule,\n",
      "Patient: I actually came across a program, which is perfect for her. And I really would like for you to help me see if this could work. And I'd rather for you to try to do that instead of me shopping around for other programs because so far the ones that have been offered me have not worked.\n",
      "Therapist: ...\n",
      "\n",
      "\n",
      "Therapist: OK, I will try. Thank you for your time and help\n",
      "\n",
      "\n",
      "Therapist: can you give me some examples?\n",
      "\n",
      "\n",
      "Therapist: So the program that you're interested, you want me to go with you or you want me to, I want you to want me to do\n",
      "--------\n",
      "--------\n",
      "Therapist: So Tommy I wanted to talk to because I was on Facebook the other day and saw some pictures that are kind of concerning to me of you and some of your friends at a party and you know, you're such a good kid, like, I don't know what you're doing drinking. It's good. ruin your life\n",
      "Patient: I mean it was just the like a social gathering it wasn't like I was looking for it the drinks were there and I have all my friends were doing it and it was just it's it's not something that I like do okay on occasion but whenever the opportunity presents itself it it's nice to just let loose and have a little bit of fun sometimes.\n",
      "Therapist: I Tommy there's so many consequences with drinking you know you're not even 21 yet you could get arrested. You could you know have a drunk driving accident you could you know, mess up your schoolwork you have such a bright future ahead of you. It just really really concerns me.\n",
      "Patient: I get what you're coming from but I I really did. I thought that I had it under control. And I didn't let myself get too far gone. I didn't want to be in how do I put this little Like, I want it to be in control. And I wanted to make sure that all my friends were Okay, so I didn't let myself drink too much.\n",
      "Therapist: ...\n",
      "\n",
      "\n",
      "Therapist: I know you're struggling but I know you can do it. You only have to do it once and you'll feel like you accomplished something and you'll feel like a kid again.\n",
      "\n",
      "\n",
      "Therapist: Yeah.\n",
      "\n",
      "\n",
      "Therapist: There's really no such thing as not drinking too much. I mean, anything that's drinking when you're under age is drinking too much. You know, like, think about it. Think about all the things that can happen to you.\n",
      "--------\n",
      "--------\n",
      "Therapist: So now as you kind of take a emotional inventory of your stress and worry and anxiety and you scale it, how would you put yourself now?\n",
      "Patient: I think is probably closer to three now feeling more hopeful and kind of not feeling I guess maybe feeling like it's a little bit less of a big deal than I felt like when I came in\n",
      "Therapist: so some of the some of the intimidation of the concerns have been relaxed a bit as backed off,\n",
      "Patient: it comes and goes,\n",
      "Therapist: it's still there. Three is still suffering, but not as much as before. And not nearly as much as the peak.\n",
      "Patient: Yeah, yeah.\n",
      "Therapist: Do you think going forward, you can apply this self talk in the morning, when that automatic clock comes up, like we make that kind of plan.\n",
      "Patient: Yeah, I think that'll be good because then also in the morning, I'll remember it's the morning and having these thoughts I need to do this.\n",
      "Therapist: ...\n",
      "\n",
      "\n",
      "Therapist: Yeah it really helps build up the self esteem. Try it for a change and see how it helps you feel.\n",
      "\n",
      "\n",
      "Therapist: Yeah, I think that's the way to go for sure.\n",
      "\n",
      "\n",
      "Therapist: There are a lot of places we're going to go. As we talk about CBT and how it relates to what you're going through. I don't want to put too much on you at one time. So I'm kind of deliberately not going to a long explanation, the theory and not assigned A lot of homework, the homework is an important part of it. Okay? And one that I feel is in the best interest of clients to really take seriously and make a best effort to do. Okay. So, I'd like that to be one of the, you know, if you're okay with it, that'd be one homework steps, and the other one. So just just be two things for this week. So that self talk in the morning, and the other one was, is really just starting to cultivate an awareness in the day of when you're having these automatic thoughts. So these automatic thoughts proceed. feelings, and behaviors that you don't like, like feeling worried. So they're a little hard to pick up at first, because you're already having the feeling before you even think, to think about the thought, if that makes sense. And there's a few steps But you're already having the feeling of worry. And now I'm asking you to stop in that moment and try to recover the thought that led to that. Yeah. So that's not an easy request, satisfied to starting out with just try to bring up an awareness of that. If you can, I think super helpful, the best way is to write it down, if it's safe to do so. And if you can't, okay. So perhaps sometime today, you find yourself extra worried. And then you think back to what was going through your mind. And you find it was worrying about the welfare of the family, like a thought like, oh, they're not doing so well. Just don't judge the thought. Just write down. I was thinking to the family that might not be doing so well.\n",
      "--------\n",
      "--------\n",
      "Therapist: Tell me about sure for any spiritual beliefs.\n",
      "Patient: Well, I was raised Catholic.\n",
      "Therapist: So you consider yourself Catholic. But you feel like there's a lot of rules.\n",
      "Patient: Yeah. I mean, there's a lot of do's and don'ts. Our church was very like, hell oriented. Like, if you do this, you're gonna go to hell to do this. We're gonna go to hell and like, well, let's let that's fun.\n",
      "Therapist: How do you think those spiritual values influence your daily life?\n",
      "Patient: I mean, sometimes I do. Feel guilty about what I do. I feel guilty about, you know, spending more money than I'm willing to admit on drugs and parties, but I mean, I think you know, God forgive me. Hmm.\n",
      "Therapist: How about racial ethnic identity?\n",
      "Patient: Well, I am Mexican.\n",
      "Therapist: Mexican.\n",
      "Patient: Well, I'm very, very family oriented.\n",
      "Therapist: Family oriented.\n",
      "Patient: Yeah,\n",
      "Therapist: ...\n",
      "\n",
      "\n",
      "Therapist: Yeah.\n",
      "\n",
      "\n",
      "Therapist: Do you pay attention to the religious beliefs of your family?\n",
      "\n",
      "\n",
      "Therapist: Can you tell me about your living housing situation?\n",
      "--------\n",
      "--------\n",
      "Therapist: What's going on? What are you feeling right now?\n",
      "Patient: I'm feeling disgust\n",
      "Therapist: Disgust about what.\n",
      "Patient: I can't do this.\n",
      "Therapist: Like you can't do this. So, so tell me what that feeling of disgust is. What do you disgust it about?\n",
      "Patient: Just my body like just, I don't know, I feel like eating that just makes my body feel you know, gross like uncomfortable, I don't know.\n",
      "Therapist: Yeah. Well, it sounds like there's some judgments in there. Right. So it sounds like probably you're having some judgments like, I'm feeling really bad.\n",
      "Patient: Yeah, yeah\n",
      "Therapist: that sort of thing. But you did say it more descriptively which is great, which is you're feeling uncomfortable right now.\n",
      "Patient: Right, Just eating not makes me feel icky. I don't know. Just\n",
      "Therapist: Yeah. And I can totally understand how you get to there. If you're thinking, I'm feeling fat. I'm going to get fat. You know, it's an easy place to get to. Okay.\n",
      "Patient: Okay.\n",
      "Therapist: But I feel like we're missing something, too, because I don't think it's justice. I think there's another primary emotion in there. What do you think that might be?\n",
      "Patient: Well, I feel like just looking at that I've that cake. I feel like I just want to run out the door. I just don't want to be here.\n",
      "Therapist: Sure. So what what emotion do you think that is?\n",
      "Patient: Being afraid being a fearful of what will happen if I eat that?\n",
      "Therapist: I think that's exactly right. That's what I'm seeing. You know, I see you kind of crawled up over there. You know, you have a very worried faced, you know, and you're having a hard time approaching it. I think I think that's absolutely right, that you're feeling fear. And I want you to know, that makes a lot of sense to me. You know, when's the last time you've eaten cheesecake.\n",
      "Patient: I honestly I can't remember. I don't know.\n",
      "Therapist: I know it's been it's been a really long time. you certainly didn't need it all through, you know, when you were really stuck in your eating disorder, you know,\n",
      "Patient: I used to, I used to like it. I remember that, but it was such a long time ago.\n",
      "Therapist: I know And so you've been avoiding food like this for so long that it totally makes sense that you're feeling fear.\n",
      "Patient: Right.\n",
      "Therapist: And you had said, this is one of the hardest foods for you. So that makes sense to me.\n",
      "Patient: Right. I just see it like, as a big blob of fat\n",
      "Therapist: ...\n",
      "\n",
      "\n",
      "Therapist: Exactly.\n",
      "\n",
      "\n",
      "Therapist: right\n",
      "\n",
      "\n",
      "Therapist: Yeah.\n",
      "--------\n",
      "--------\n",
      "Therapist: HI Sam, Thanks for waiting. I talked to your mom a little bit about some of the things that were going on at home in school. And now I'm going to spend a few minutes with you asking you some questions. The questions I ask all the kids, some of them are going to kind of fit for you and some of them might not fit so well. But if there's things that you're curious about, I'm asking or if you have questions as we're talking, then feel free to ask me about why I'm asking something or ask any questions. Okay. The first thing I wanted to check in about was how have things been going at home?\n",
      "Patient: Oh, okay. I guess.\n",
      "Therapist: Okay. You guess. And sounds like there's a lot of things that have happened. Lots of stressors and lots of things that have happened hasn't Mom doing with all of that stuff.\n",
      "Patient: Okay, and I guess she's fine.\n",
      "Therapist: Have there ever been a time where you feel like your mom isn't able to get out of bed or do the things that she needs to do?\n",
      "Patient: No. No.\n",
      "Therapist: So she's getting out of bed and she's looking after you.\n",
      "Patient: Most of the time\n",
      "Therapist: most of the time, they won't watch us most of the time mean?\n",
      "Patient: Well, she's mostly doing a lot of well, she's doing a lot of stuff. So she's doing things pretty quick, I guess.\n",
      "Therapist: What are some of the things that you might think she might do a bit better?\n",
      "Patient: pretty much every day,\n",
      "Therapist: Is your mom having Cheerios with you? Are you on your own having Cheerios what your mom doing\n",
      "Patient: mainly by myself.\n",
      "Therapist: ...\n",
      "\n",
      "\n",
      "Therapist: You know. Maybe I should have a talk with her.\n",
      "\n",
      "\n",
      "Therapist: Okay.\n",
      "\n",
      "\n",
      "Therapist: you're by yourself having Cheerios.\n",
      "--------\n",
      "--------\n",
      "Therapist: Hi You How you doing today.\n",
      "Patient: Good. How are you?\n",
      "Therapist: I'm doing well. Thanks for asking.\n",
      "Patient: Good Good.\n",
      "Therapist: Your brother Bhushan today and he's had some concerns about your mood.\n",
      "Patient: I mean, he has but I don't it's kind of weird because I'm it's actually been great. It's been great. It's been great like I've I mean I used to have issues with mood but I don't anymore and now I just oh for at least you know, last couple days at least. Maybe about a week. I don't know I haven't been paying attention but I've thought awesome like I've gotten so much done. You know I do stuff at work. I do stuff at home. I went shopping. I am doing great with Like, well, kinda great with my interpersonal relationships like I was thinking about at work this week, I thought I was like so proud of myself I. Well, firstly, I got a promotion. And also, so I was happy with that. But then I know one of my co workers, he had his birthday. So I was like, Oh, let me do something nice for him. And I went home and I baked the cake, but it's kind of annoying, because when I got there, he got mad, which is stupid, because he said, he didn't appreciate the fact that he said over the hill, but he's like, old, so I thought it'd be funny, but it wasn't apparently. But so yeah, besides that, like, this week's been awesome. And, you know, like I said, I got my promotion and made a lot of money. Like with a nice increase, I should say. And I just, yeah, so I've been feeling awesome. Getting a lot done.\n",
      "Therapist: Yeah. You feel like you're getting a lot accomplished at work at home and what types of things you\n",
      "Patient: So there's a couple projects at work that I've been working on. I got all those done. And I at home I have been working on my, like unpacking because I moved in kind of a while ago, but I have still had boxes sitting around and stuff. So I got that all taken care of. I'm completely unpacked. Over the weekend, I went and bought some, like home decor stuff. So it really makes the house look just like I want it to look and I'm happy with it.\n",
      "Therapist: So your mood is moods up. They your brother specifically had concerns about spending money.\n",
      "Patient: I mean, he's worried because I went on a shopping spree so he doesn't really know how much I am making with this new promotion and I don't really want to tell him I might I might actually because I'm proud of myself like I deserve it and I you know, we're still hard for so long in this company. And so with the shopping spree was kind of like treating myself. And so I've gone I went out and I did spend a lot of money. I actually maxed out one of my credit cards, but I don't have a lot of bills right now. Like I paid off all my debts, and I finished paying off my student loans too, so I could pay for it. So that's why he's worried. And like, I called him because I ran out of space in my car, and I was going to try to put this table that was gonna buy on top of my car bins and have like one of those things to attach it. So it didn't work out. And so I think you kind of got worried because he thought I was buying too much, but I returned that item because obviously I couldn't fit in my car and he couldn't come help me. So besides I've been fine.\n",
      "Therapist: So you haven't you haven't gotten any trouble at work, or at home or anything?\n",
      "Patient: No, not at all. I mean, like I said, I got approached at work. My bosses are extremely happy with how productive I've been how much I'm getting done. The quality of my work, I'm able to like, look over the reports and everything I turn in several times before I do it, and I always make sure I do. So.\n",
      "Therapist: Okay. Any changes with your sleep habits? Um,\n",
      "Patient: yes and no. I mean, yes, because I haven't really been sleeping as much as I used to. I think I used to sleep too much. But like, I haven't needed to this week, like, but it hasn't been an issue. It's actually been a good thing.\n",
      "Therapist: So how much did you sleep last night?\n",
      "Patient: I'm just about an hour and a half.\n",
      "Therapist: You feel rested?\n",
      "Patient: I do feel rested. I might take a nap later, like a 30 minute nap and then I'll be fine.\n",
      "Therapist: ...\n",
      "\n",
      "\n",
      "Therapist: Sure have a lot of energy.\n",
      "\n",
      "\n",
      "Therapist: That's good to hear.\n",
      "\n",
      "\n",
      "Therapist: Okay.\n",
      "--------\n",
      "--------\n",
      "Therapist: Okay, so I noticed on your diary card that you have that you did cut.\n",
      "Patient: Yep.\n",
      "Therapist: Okay, so let's talk about that a little bit. When what day did that happen on?\n",
      "Patient: Tuesday\n",
      "Therapist: Tuesday? Okay, so where were you on Tuesday when you first had the thought that you wanted to cut?\n",
      "Patient: Where I usually always am at school. I was on my Walker. That's stupid girl.\n",
      "Therapist: What was going on at your locker?\n",
      "Patient: Melanie was talking about Tim my Tim. My boyfriend and I know it was it was my Tim she was talking about I just wanted to punch her so bad.\n",
      "Therapist: Okay, so you were sending out your locker and you heard somebody say something about Tim that you didn't want to hear.\n",
      "Patient: Yeah, she was talking about him. And he had he didn't text me the night before. So who knows what's going on?\n",
      "Therapist: What were you feeling right then?\n",
      "Patient: so angry. so angry\n",
      "Therapist: on a scale of one to 10 how angry would you say you were ?\n",
      "Patient: like a nine\n",
      "Therapist: pretty angry then?\n",
      "Patient: Yeah.\n",
      "Therapist: ...\n",
      "\n",
      "\n",
      "Therapist: Okay.\n",
      "\n",
      "\n",
      "Therapist: What did you do right then? You ride your locker. What's the next thing you did after you heard it?\n",
      "\n",
      "\n",
      "Therapist: Okay, so how do you think you would have responded if you had heard Tim had cut Melanie?\n",
      "--------\n",
      "--------\n",
      "Therapist: Let's talk about then how you ended up cutting yourself\n",
      "Patient: Isn't it obvious?\n",
      "Therapist: So what happened? First of all, tell me what you did. Exactly\n",
      "Patient: what do you mean what I did?\n",
      "Therapist: Well, I mean where'd you cut yourself? I know you said you cut yourself with the\n",
      "Patient: same as always same as always\n",
      "Therapist: your arm?\n",
      "Patient: yeah.\n",
      "Therapist: ...\n",
      "\n",
      "\n",
      "Therapist: I mean what did you cut yourself?\n",
      "\n",
      "\n",
      "Therapist: how many times?\n",
      "\n",
      "\n",
      "Therapist: What did you cut yourself with?\n",
      "--------\n",
      "--------\n",
      "Therapist: You okay now kind of taking a look at some of your thinking and situation from that point of view, okay. Some things kind of stand out for me and hearing you talk about what's been happening and your feelings I can appreciate. It's really painful. And I would say to the reader that you can step back and try to look at the thoughts. I think that you'll see it's it's helpful although I know It's a little difficult or unusual to separate feelings from thoughts sometimes. But I'd like to try to kind of distinguish between the two. Okay. You said that you've been at your job for about five years. You really like your job. So tell me about your job, like kind of how you felt about it, but frame it in a time before this ever happened.\n",
      "Patient: I like my job because I felt like I was helping people. So it was meaningful. And, you know, when I went there, Time went by fast. So it was kind of like, I was enjoying myself, you know, not super fast. I wasn't having the best time of my life, but it was something where I would go and you know, I felt like I was doing something important and the day didn't drag on and, you know, I got along with my co workers and that kind of thing. So it felt meaningful to me. meaningful.\n",
      "Therapist: ...\n",
      "\n",
      "\n",
      "Therapist: So you remember accomplishing things at that job that you felt benefits society, the people you help.\n",
      "\n",
      "\n",
      "Therapist: Cool.\n",
      "\n",
      "\n",
      "Therapist: So you said that you came to work with your colleagues?\n",
      "--------\n",
      "--------\n",
      "Therapist: Alisa How you doing today?\n",
      "Patient: Good? How are you?\n",
      "Therapist: I'm doing well. Thanks for asking.\n",
      "Therapist: How has the anxiety been going?\n",
      "Patient: Um, since last session, it seems to be in check.\n",
      "Patient: Nothing really major. It's been going on with it. So I think\n",
      "Patient: I'm getting to a point where it's under control.\n",
      "Therapist: I subsided a bit. That's good. Yeah, that's good. How's things been going at work lately?\n",
      "Patient: So works a little bit of a different story. Um, we have our daily meetings, and I actually had to clean like one of my co workers aside because I feel like they undermine me all the time. And they like, they don't give me the respect basically, that I deserve. So I took her outside after the meeting and lean into her about it. And afterwards, I mean, the next day, because we have these things every day, and she like, she came back and came at me again. But it was worse, even after talking for\n",
      "Patient: no.\n",
      "Therapist: So you have these, someone understands you have these daily meetings? Right. And you mentioned that she's not showing you respect and that you deserve respect. Right? effect. So tell me, tell me about that. Believe from what we talked about ABC before activating events and beliefs and consequences. In our abt, tell me about that belief.\n",
      "Patient: Or I just feel that I do a good job and I deserve to be respected by my coworkers. Yeah, it just\n",
      "Therapist: other levels of respect. There's a certain level of respect that you demand or need.\n",
      "Patient: I don't know if there's a certain level, but I feel just like, I deserve it. You know,\n",
      "Therapist: and what did she do? That kind of convinced you that she wasn't meeting that level of respect?\n",
      "Patient: Well, she was like, she doubt my ideas, um, and just kind of made me feel like a fool, basically. So I just I didn't understand.\n",
      "Patient: right\n",
      "Patient: I mean, I guess.\n",
      "Therapist: Have you criticized other coworkers?\n",
      "Patient: yeah.\n",
      "Therapist: So do you think that her criticism was within normal limits like within the what you've kind of seen there regularly\n",
      "Patient: I mean, now that you pointed out I mean, I guess I can view it in that way that it wasn't.\n",
      "Patient: it just felt like she was purposely trying to nitpick if you were\n",
      "Patient: Yeah.\n",
      "Patient: I mean, I guess I may have gone out or a little partially um, But I felt at the time that it was reasonable\n",
      "Therapist: at the time when you were?\n",
      "Patient: when I was talking to her outside of the meeting.\n",
      "Therapist: So you felt that she was a bit harsh. You talk to her about it, but then she's become more harsh. So where do you stand with her now? Like the meeting? Well,\n",
      "Patient: I've just been trying not to talk to her. And obviously, in a work situation, doesn't really help.\n",
      "Therapist: It's not convenient. Yeah. It might not help. Alright. So let's work this through using the ABC model that we use for the anxiety that you had before. Right? That was troublesome to you before. What would the activating event be here in this situation?\n",
      "Patient: So I guess the confrontation I had whether\n",
      "Therapist: Was this criticism?\n",
      "Patient: Yeah. Yeah.\n",
      "Patient: So She criticized me and I felt disrespected.\n",
      "Therapist: That's a feeling\n",
      "Patient: I feel or my my belief is that I deserve respect.\n",
      "Patient: being upset and like disrespected and again yeah\n",
      "Therapist: was aggravation, yeah. frustration, frustration. So that's, that would be one of the consequences of how you processed her behavior. Does that make sense? Feeling the frustration Feeling would be one of the consequences like an ABC kind of chance you have the activating event. She criticizes you. Your belief is that you deserve respect. And clearly she violated that belief. Right? She She didn't show you the respect that you deserved record your belief system. And one of the consequences, therefore, was this feeling of frustration. Were there any other consequences?\n",
      "Patient: Well, if we, like go forward, it's the kind of disarray or the tension, I guess, you know, in the office.\n",
      "Therapist: To get that's, that's definitely a consequence. I'm thinking there's an intermediate consequence stuff. So you had that feeling of frustration. And what's the next thing you did after that meeting was over,\n",
      "Patient: like confronted her,\n",
      "Therapist: ...\n",
      "\n",
      "\n",
      "Therapist: you confronted her? Right. So you have kind of those two consequences. And that confrontation, it would appear has led her to kind of come on more strongly with her criticisms, which is another activating event. You could also think of as a consequence, but like I said, this is a cyclical. So you see how the A and the B and the C, a paradigm can fit in to what happened here at work for you.\n",
      "\n",
      "\n",
      "Therapist: Yeah, this conversation we had had this feeling of tension and then, you know, we just kind of relaxed and then it was a different situation.\n",
      "\n",
      "\n",
      "Therapist: Right.\n",
      "--------\n",
      "--------\n",
      "Therapist: Thanks How are you? I'm doing good to see your history physical today. Sure. So what brings you into the\n",
      "Patient: doc I'm having snoring issues.\n",
      "Therapist: Are you having snoring issues?. Do you notice that yourself?\n",
      "Patient: My wife tells me Okay, and she does like this.\n",
      "Therapist: Yeah. When did that start?\n",
      "Patient: Well, since I gained weight, I've been snoring a lot.\n",
      "Therapist: Okay, gained some weight. Yeah. How much weight have you gained?\n",
      "Patient: 50 pounds. Yeah. Okay. I want to lose this my love handles over here. Okay, you see this love handles. I wish I could lose sore. Oh, can you help me off with losing love handles?\n",
      "Therapist: We can make a plan together. I'll set you on the right direction. Okay. Excuse me, I'm just reading some notes ifyou don't mind.\n",
      "Patient: That's fine.\n",
      "Therapist: Sorry if this stuff How long should you say this started?\n",
      "Patient: I'll just talk about like two years, two years ago.\n",
      "Therapist: Has this ever happened the past or the first time?\n",
      "Patient: Not exactly.\n",
      "Therapist: ...\n",
      "\n",
      "\n",
      "Therapist: Okay.\n",
      "\n",
      "\n",
      "Therapist: Okay.\n",
      "\n",
      "\n",
      "Therapist: Try using anything?\n",
      "--------\n",
      "--------\n",
      "Therapist: Tim, what's hard I mean, how does your body feel when you think about showing him that that vulnerable side of you? Can you feel that in your body? How does that feel?\n",
      "Patient: The sadness is like a stone in my belly.\n",
      "Therapist: Is it?\n",
      "Patient: Yeah, sort of like and, and wanting to lift that stone out, so to speak, because the vulnerability, you don't want to be excited thankful for you to be so painful to be vulnerable.\n",
      "Therapist: Right\n",
      "Patient: Whereas I think you have seen me in vulnerable situations more because of medical problems. And when someone else is vulnerable, not me. I can be seen as capable\n",
      "Therapist: ...\n",
      "\n",
      "\n",
      "Therapist: Me too.\n",
      "\n",
      "\n",
      "Therapist: So I think I feel you see me as capable.\n",
      "\n",
      "\n",
      "Therapist: Ah, that's just so so so there's a sadness here, when your partner says, I don't really see, you don't really show me that softer part of you, there's a sadness there and it feels like a stone in your stomach, right? But somehow you helped me it's like, what I'm hearing is for you to actually touch that vulnerability and show him there's something about not being capable, they're not being strong. Is that it?\n",
      "--------\n"
     ]
    }
   ],
   "source": [
    "for dialogue_id, dialogue_samples in out_df.groupby('Conversation ID', sort=False):\n",
    "    # Shuffle rows\n",
    "    dialogue_samples = dialogue_samples.sample(frac=1)\n",
    "    # Iterate over alternative responses\n",
    "    print('--------')\n",
    "    for i, (_, sample) in enumerate(dialogue_samples.iterrows()):\n",
    "        # If it's the first print the context\n",
    "        if i == 0:\n",
    "            print(sample['Context'])\n",
    "        print('\\n')\n",
    "        print(f\"Therapist: {sample['Utterance']}\")\n",
    "    print('--------')"
   ]
  },
  {
   "cell_type": "markdown",
   "metadata": {
    "pycharm": {
     "name": "#%% md\n"
    }
   },
   "source": [
    "### Serialise data"
   ]
  },
  {
   "cell_type": "code",
   "execution_count": 23,
   "metadata": {
    "collapsed": false,
    "jupyter": {
     "outputs_hidden": false
    },
    "pycharm": {
     "name": "#%%\n"
    }
   },
   "outputs": [],
   "source": [
    "# out_df.to_csv(os.path.join(DATA_PATH, 'human_evaluation_samples_temp.csv'), index=False)\n",
    "# out_df.to_csv(os.path.join(DATA_PATH, 'human_evaluation_samples_nucl.csv'), index=False)\n",
    "# out_df.to_csv(os.path.join(DATA_PATH, 'human_evaluation_samples_cont.csv'), index=False)\n",
    "out_df.to_csv(os.path.join(DATA_PATH, 'human_evaluation_samples_alt.csv'), index=False)"
   ]
  },
  {
   "cell_type": "code",
   "execution_count": null,
   "metadata": {},
   "outputs": [],
   "source": []
  }
 ],
 "metadata": {
  "kernelspec": {
   "display_name": "Python 3 (ipykernel)",
   "language": "python",
   "name": "python3"
  },
  "language_info": {
   "codemirror_mode": {
    "name": "ipython",
    "version": 3
   },
   "file_extension": ".py",
   "mimetype": "text/x-python",
   "name": "python",
   "nbconvert_exporter": "python",
   "pygments_lexer": "ipython3",
   "version": "3.10.4"
  }
 },
 "nbformat": 4,
 "nbformat_minor": 4
}
