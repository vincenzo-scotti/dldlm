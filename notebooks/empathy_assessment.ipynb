{
 "cells": [
  {
   "cell_type": "markdown",
   "metadata": {
    "pycharm": {
     "name": "#%% md\n"
    }
   },
   "source": [
    "# Evaluation"
   ]
  },
  {
   "cell_type": "markdown",
   "metadata": {},
   "source": [
    "## Preliminaries"
   ]
  },
  {
   "cell_type": "markdown",
   "metadata": {},
   "source": [
    "### Imports"
   ]
  },
  {
   "cell_type": "code",
   "execution_count": 1,
   "metadata": {
    "collapsed": false,
    "jupyter": {
     "outputs_hidden": false
    },
    "pycharm": {
     "name": "#%%\n"
    }
   },
   "outputs": [],
   "source": [
    "import sys\n",
    "import os\n",
    "sys.path.append('./src')"
   ]
  },
  {
   "cell_type": "code",
   "execution_count": 2,
   "metadata": {
    "collapsed": false,
    "jupyter": {
     "outputs_hidden": false
    },
    "pycharm": {
     "name": "#%%\n"
    }
   },
   "outputs": [],
   "source": [
    "import pickle\n",
    "import bz2"
   ]
  },
  {
   "cell_type": "code",
   "execution_count": 3,
   "metadata": {
    "collapsed": false,
    "jupyter": {
     "outputs_hidden": false
    },
    "pycharm": {
     "name": "#%%\n"
    }
   },
   "outputs": [],
   "source": [
    "import pandas as pd"
   ]
  },
  {
   "cell_type": "code",
   "execution_count": 4,
   "metadata": {
    "collapsed": false,
    "jupyter": {
     "outputs_hidden": false
    },
    "pycharm": {
     "name": "#%%\n"
    }
   },
   "outputs": [
    {
     "name": "stderr",
     "output_type": "stream",
     "text": [
      "/home/vincenzo/anaconda3/envs/dldlm/lib/python3.10/site-packages/tqdm/auto.py:22: TqdmWarning: IProgress not found. Please update jupyter and ipywidgets. See https://ipywidgets.readthedocs.io/en/stable/user_install.html\n",
      "  from .autonotebook import tqdm as notebook_tqdm\n"
     ]
    }
   ],
   "source": [
    "from dldlm.chatbot_api.chatbot import DLDLMChatbot"
   ]
  },
  {
   "cell_type": "code",
   "execution_count": 5,
   "metadata": {
    "collapsed": false,
    "jupyter": {
     "outputs_hidden": false
    },
    "pycharm": {
     "name": "#%%\n"
    }
   },
   "outputs": [],
   "source": [
    "import numpy as np"
   ]
  },
  {
   "cell_type": "code",
   "execution_count": 6,
   "metadata": {
    "collapsed": false,
    "jupyter": {
     "outputs_hidden": false
    },
    "pycharm": {
     "name": "#%%\n"
    }
   },
   "outputs": [],
   "source": [
    "import torch"
   ]
  },
  {
   "cell_type": "code",
   "execution_count": 7,
   "metadata": {
    "collapsed": false,
    "jupyter": {
     "outputs_hidden": false
    },
    "pycharm": {
     "name": "#%%\n"
    }
   },
   "outputs": [],
   "source": [
    "import random"
   ]
  },
  {
   "cell_type": "markdown",
   "metadata": {
    "pycharm": {
     "name": "#%% md\n"
    }
   },
   "source": [
    "### Constants"
   ]
  },
  {
   "cell_type": "code",
   "execution_count": 8,
   "metadata": {
    "collapsed": false,
    "jupyter": {
     "outputs_hidden": false
    },
    "pycharm": {
     "name": "#%%\n"
    }
   },
   "outputs": [],
   "source": [
    "DATA_PATH = '../resources/data/cache/'"
   ]
  },
  {
   "cell_type": "code",
   "execution_count": 9,
   "metadata": {
    "collapsed": false,
    "jupyter": {
     "outputs_hidden": false
    },
    "pycharm": {
     "name": "#%%\n"
    }
   },
   "outputs": [],
   "source": [
    "DF_COLUMNS = ['Split', 'Corpus', 'Conversation ID', 'Turn IDX', 'Speaker', 'Utterance']\n",
    "OUT_DF_COLUMNS = ['Split', 'Corpus', 'Conversation ID', 'Turn IDX', 'Speaker', 'Context', 'Last message', 'Response', 'Model']"
   ]
  },
  {
   "cell_type": "code",
   "execution_count": 10,
   "metadata": {
    "collapsed": false,
    "jupyter": {
     "outputs_hidden": false
    },
    "pycharm": {
     "name": "#%%\n"
    }
   },
   "outputs": [],
   "source": [
    "GENERATE_KWARGS = {'top_p': 1.0, 'top_k': 0, 'temperature': 0.7, 'do_sample': True}"
   ]
  },
  {
   "cell_type": "code",
   "execution_count": 11,
   "metadata": {
    "collapsed": false,
    "jupyter": {
     "outputs_hidden": false
    },
    "pycharm": {
     "name": "#%%\n"
    }
   },
   "outputs": [],
   "source": [
    "N_SAMPLES = 100"
   ]
  },
  {
   "cell_type": "code",
   "execution_count": 12,
   "metadata": {
    "collapsed": false,
    "jupyter": {
     "outputs_hidden": false
    },
    "pycharm": {
     "name": "#%%\n"
    }
   },
   "outputs": [],
   "source": [
    "RANDOM_SEED = 2307"
   ]
  },
  {
   "cell_type": "markdown",
   "metadata": {},
   "source": [
    "### Random seed"
   ]
  },
  {
   "cell_type": "code",
   "execution_count": 13,
   "metadata": {
    "collapsed": false,
    "jupyter": {
     "outputs_hidden": false
    },
    "pycharm": {
     "name": "#%%\n"
    }
   },
   "outputs": [
    {
     "data": {
      "text/plain": [
       "<torch._C.Generator at 0x7f4bbe3a63f0>"
      ]
     },
     "execution_count": 13,
     "metadata": {},
     "output_type": "execute_result"
    }
   ],
   "source": [
    "random.seed(RANDOM_SEED)\n",
    "np.random.seed(RANDOM_SEED)\n",
    "torch.manual_seed(RANDOM_SEED)"
   ]
  },
  {
   "cell_type": "markdown",
   "metadata": {
    "pycharm": {
     "name": "#%% md\n"
    }
   },
   "source": [
    "## Data"
   ]
  },
  {
   "cell_type": "markdown",
   "metadata": {
    "pycharm": {
     "name": "#%% md\n"
    }
   },
   "source": [
    "### Load data"
   ]
  },
  {
   "cell_type": "code",
   "execution_count": 14,
   "metadata": {
    "collapsed": false,
    "jupyter": {
     "outputs_hidden": false
    },
    "pycharm": {
     "name": "#%%\n"
    }
   },
   "outputs": [],
   "source": [
    "with bz2.BZ2File(os.path.join(DATA_PATH, 'evaluation_corpus_test.pbz2'), 'r') as f:\n",
    "    data = pickle.load(f)"
   ]
  },
  {
   "cell_type": "markdown",
   "metadata": {
    "pycharm": {
     "name": "#%% md\n"
    }
   },
   "source": [
    "### Convert to Data Frame"
   ]
  },
  {
   "cell_type": "code",
   "execution_count": 15,
   "metadata": {
    "collapsed": false,
    "jupyter": {
     "outputs_hidden": false
    },
    "pycharm": {
     "name": "#%%\n"
    }
   },
   "outputs": [],
   "source": [
    "df = pd.DataFrame(\n",
    "    [\n",
    "        (\n",
    "            sample['split'],\n",
    "            sample['corpus'],\n",
    "            sample['conversation_idx'],\n",
    "            sample['turn_idx'],\n",
    "            sample['speaker'],\n",
    "            sample['response']\n",
    "        )\n",
    "        for sample in data\n",
    "        if sample['corpus'] == 'HOPE'\n",
    "    ],\n",
    "    columns=DF_COLUMNS\n",
    ").sort_values(by=['Conversation ID', 'Turn IDX'])"
   ]
  },
  {
   "cell_type": "markdown",
   "metadata": {
    "pycharm": {
     "name": "#%% md\n"
    }
   },
   "source": [
    "### Randomly sample conversations"
   ]
  },
  {
   "cell_type": "code",
   "execution_count": 16,
   "metadata": {
    "collapsed": false,
    "jupyter": {
     "outputs_hidden": false
    },
    "pycharm": {
     "name": "#%%\n"
    }
   },
   "outputs": [],
   "source": [
    "eval_data = random.choices([sample for sample in data if sample['corpus'] == 'HOPE' and sample.get('speaker') == 'Therapist'], k=N_SAMPLES)"
   ]
  },
  {
   "cell_type": "markdown",
   "metadata": {},
   "source": [
    "## Models"
   ]
  },
  {
   "cell_type": "code",
   "execution_count": 17,
   "metadata": {
    "collapsed": false,
    "jupyter": {
     "outputs_hidden": false
    },
    "pycharm": {
     "name": "#%%\n"
    }
   },
   "outputs": [],
   "source": [
    "chatbot = DLDLMChatbot(\n",
    "    '../resources/models/dldlm_pretraining',\n",
    "    None,\n",
    "    max_context_len=256,\n",
    "    max_response_len=128,\n",
    "    generate_kwargs=GENERATE_KWARGS\n",
    ")"
   ]
  },
  {
   "cell_type": "code",
   "execution_count": 18,
   "metadata": {
    "collapsed": false,
    "jupyter": {
     "outputs_hidden": false
    },
    "pycharm": {
     "name": "#%%\n"
    }
   },
   "outputs": [],
   "source": [
    "therabot = DLDLMChatbot(\n",
    "  '../resources/models/therapy_dldlm',\n",
    "  None,\n",
    "  max_context_len=256,\n",
    "  max_response_len=128,\n",
    "  generate_kwargs=GENERATE_KWARGS\n",
    ")"
   ]
  },
  {
   "cell_type": "markdown",
   "metadata": {
    "pycharm": {
     "name": "#%% md\n"
    }
   },
   "source": [
    "## Evaluation data preparation"
   ]
  },
  {
   "cell_type": "markdown",
   "metadata": {
    "pycharm": {
     "name": "#%% md\n"
    }
   },
   "source": [
    "### Responses generation"
   ]
  },
  {
   "cell_type": "code",
   "execution_count": 19,
   "metadata": {
    "collapsed": false,
    "jupyter": {
     "outputs_hidden": false
    },
    "pycharm": {
     "name": "#%%\n"
    }
   },
   "outputs": [],
   "source": [
    "out_data = []"
   ]
  },
  {
   "cell_type": "code",
   "execution_count": 20,
   "metadata": {
    "collapsed": false,
    "jupyter": {
     "outputs_hidden": false
    },
    "pycharm": {
     "name": "#%%\n"
    }
   },
   "outputs": [
    {
     "name": "stderr",
     "output_type": "stream",
     "text": [
      "Token indices sequence length is longer than the specified maximum sequence length for this model (1589 > 1024). Running this sequence through the model will result in indexing errors\n",
      "Token indices sequence length is longer than the specified maximum sequence length for this model (1589 > 1024). Running this sequence through the model will result in indexing errors\n"
     ]
    }
   ],
   "source": [
    "# Iterate over dialogues\n",
    "for sample in eval_data:\n",
    "    #\n",
    "    dialogue = df[(df['Conversation ID'] == sample['conversation_idx']) & (df['Turn IDX'] <= sample['turn_idx'])].sort_values(by=['Turn IDX'])\n",
    "    # Prepare dialogue history\n",
    "    history = [turn['Utterance'] for _, turn in dialogue[dialogue['Turn IDX'] < sample['turn_idx']].iterrows()]\n",
    "    message = history[-1] if len(history) >= 1 else ''\n",
    "    # Prepare context\n",
    "    context = '\\n'.join(\n",
    "        f\"{turn['Speaker']}: {turn['Utterance']}\"\n",
    "        for _, turn in dialogue[dialogue['Turn IDX'] < sample['turn_idx']].iterrows()\n",
    "    ) + '\\n' + 'Therapist: ...'\n",
    "    context = context.strip()\n",
    "    # Prepare original response\n",
    "    original_response = sample['response']\n",
    "    # Generate response with base model\n",
    "    response_baseline = chatbot(history)\n",
    "    # Generate response with fine-tuned model\n",
    "    response = therabot(history)\n",
    "    # Add original and generated responses to output data\n",
    "    out_data.append((sample['split'], sample['corpus'], sample['conversation_idx'], sample['turn_idx'], 'Therapist', context, f'Patient: {message}', f'Therapist: {original_response}', 'Ground truth'))\n",
    "    out_data.append((sample['split'], sample['corpus'], sample['conversation_idx'], sample['turn_idx'], 'Therapist', context, f'Patient: {message}', f'Therapist: {response_baseline}', 'DLDLM'))\n",
    "    out_data.append((sample['split'], sample['corpus'], sample['conversation_idx'], sample['turn_idx'], 'Therapist', context, f'Patient: {message}', f'Therapist: {response}', 'Therapy-DLDLM'))"
   ]
  },
  {
   "cell_type": "code",
   "execution_count": 21,
   "metadata": {
    "collapsed": false,
    "jupyter": {
     "outputs_hidden": false
    },
    "pycharm": {
     "name": "#%%\n"
    }
   },
   "outputs": [
    {
     "data": {
      "text/html": [
       "<div>\n",
       "<style scoped>\n",
       "    .dataframe tbody tr th:only-of-type {\n",
       "        vertical-align: middle;\n",
       "    }\n",
       "\n",
       "    .dataframe tbody tr th {\n",
       "        vertical-align: top;\n",
       "    }\n",
       "\n",
       "    .dataframe thead th {\n",
       "        text-align: right;\n",
       "    }\n",
       "</style>\n",
       "<table border=\"1\" class=\"dataframe\">\n",
       "  <thead>\n",
       "    <tr style=\"text-align: right;\">\n",
       "      <th></th>\n",
       "      <th>Split</th>\n",
       "      <th>Corpus</th>\n",
       "      <th>Conversation ID</th>\n",
       "      <th>Turn IDX</th>\n",
       "      <th>Speaker</th>\n",
       "      <th>Context</th>\n",
       "      <th>Last message</th>\n",
       "      <th>Response</th>\n",
       "      <th>Model</th>\n",
       "    </tr>\n",
       "  </thead>\n",
       "  <tbody>\n",
       "    <tr>\n",
       "      <th>0</th>\n",
       "      <td>test</td>\n",
       "      <td>HOPE</td>\n",
       "      <td>10</td>\n",
       "      <td>14</td>\n",
       "      <td>Therapist</td>\n",
       "      <td>Therapist: All right, Chris, so I need to talk...</td>\n",
       "      <td>Patient: Well, supermom.</td>\n",
       "      <td>Therapist: Yeah. So the issue again, is, I can...</td>\n",
       "      <td>Ground truth</td>\n",
       "    </tr>\n",
       "    <tr>\n",
       "      <th>1</th>\n",
       "      <td>test</td>\n",
       "      <td>HOPE</td>\n",
       "      <td>10</td>\n",
       "      <td>14</td>\n",
       "      <td>Therapist</td>\n",
       "      <td>Therapist: All right, Chris, so I need to talk...</td>\n",
       "      <td>Patient: Well, supermom.</td>\n",
       "      <td>Therapist: Sonny.</td>\n",
       "      <td>DLDLM</td>\n",
       "    </tr>\n",
       "    <tr>\n",
       "      <th>2</th>\n",
       "      <td>test</td>\n",
       "      <td>HOPE</td>\n",
       "      <td>10</td>\n",
       "      <td>14</td>\n",
       "      <td>Therapist</td>\n",
       "      <td>Therapist: All right, Chris, so I need to talk...</td>\n",
       "      <td>Patient: Well, supermom.</td>\n",
       "      <td>Therapist: All right.</td>\n",
       "      <td>Therapy-DLDLM</td>\n",
       "    </tr>\n",
       "    <tr>\n",
       "      <th>3</th>\n",
       "      <td>test</td>\n",
       "      <td>HOPE</td>\n",
       "      <td>20</td>\n",
       "      <td>2</td>\n",
       "      <td>Therapist</td>\n",
       "      <td>Therapist: What's going on? What are you feeli...</td>\n",
       "      <td>Patient: I'm feeling disgust</td>\n",
       "      <td>Therapist: Disgust about what.</td>\n",
       "      <td>Ground truth</td>\n",
       "    </tr>\n",
       "    <tr>\n",
       "      <th>4</th>\n",
       "      <td>test</td>\n",
       "      <td>HOPE</td>\n",
       "      <td>20</td>\n",
       "      <td>2</td>\n",
       "      <td>Therapist</td>\n",
       "      <td>Therapist: What's going on? What are you feeli...</td>\n",
       "      <td>Patient: I'm feeling disgust</td>\n",
       "      <td>Therapist: Really? Why?</td>\n",
       "      <td>DLDLM</td>\n",
       "    </tr>\n",
       "    <tr>\n",
       "      <th>...</th>\n",
       "      <td>...</td>\n",
       "      <td>...</td>\n",
       "      <td>...</td>\n",
       "      <td>...</td>\n",
       "      <td>...</td>\n",
       "      <td>...</td>\n",
       "      <td>...</td>\n",
       "      <td>...</td>\n",
       "      <td>...</td>\n",
       "    </tr>\n",
       "    <tr>\n",
       "      <th>295</th>\n",
       "      <td>test</td>\n",
       "      <td>HOPE</td>\n",
       "      <td>37</td>\n",
       "      <td>22</td>\n",
       "      <td>Therapist</td>\n",
       "      <td>Therapist: Hello, Susan.\\nPatient: Hello\\nTher...</td>\n",
       "      <td>Patient: okay. Okay.</td>\n",
       "      <td>Therapist: Okay, so like a little confession. ...</td>\n",
       "      <td>DLDLM</td>\n",
       "    </tr>\n",
       "    <tr>\n",
       "      <th>296</th>\n",
       "      <td>test</td>\n",
       "      <td>HOPE</td>\n",
       "      <td>37</td>\n",
       "      <td>22</td>\n",
       "      <td>Therapist</td>\n",
       "      <td>Therapist: Hello, Susan.\\nPatient: Hello\\nTher...</td>\n",
       "      <td>Patient: okay. Okay.</td>\n",
       "      <td>Therapist: So I have a lot of things that I ne...</td>\n",
       "      <td>Therapy-DLDLM</td>\n",
       "    </tr>\n",
       "    <tr>\n",
       "      <th>297</th>\n",
       "      <td>test</td>\n",
       "      <td>HOPE</td>\n",
       "      <td>7</td>\n",
       "      <td>10</td>\n",
       "      <td>Therapist</td>\n",
       "      <td>Therapist: How are you? Not well?\\nPatient: No...</td>\n",
       "      <td>Patient: Yeah. I was, I thought, you know, I e...</td>\n",
       "      <td>Therapist: and that's not gonna happen. No, no...</td>\n",
       "      <td>Ground truth</td>\n",
       "    </tr>\n",
       "    <tr>\n",
       "      <th>298</th>\n",
       "      <td>test</td>\n",
       "      <td>HOPE</td>\n",
       "      <td>7</td>\n",
       "      <td>10</td>\n",
       "      <td>Therapist</td>\n",
       "      <td>Therapist: How are you? Not well?\\nPatient: No...</td>\n",
       "      <td>Patient: Yeah. I was, I thought, you know, I e...</td>\n",
       "      <td>Therapist: Yeah. You should talk to the manage...</td>\n",
       "      <td>DLDLM</td>\n",
       "    </tr>\n",
       "    <tr>\n",
       "      <th>299</th>\n",
       "      <td>test</td>\n",
       "      <td>HOPE</td>\n",
       "      <td>7</td>\n",
       "      <td>10</td>\n",
       "      <td>Therapist</td>\n",
       "      <td>Therapist: How are you? Not well?\\nPatient: No...</td>\n",
       "      <td>Patient: Yeah. I was, I thought, you know, I e...</td>\n",
       "      <td>Therapist: I see.</td>\n",
       "      <td>Therapy-DLDLM</td>\n",
       "    </tr>\n",
       "  </tbody>\n",
       "</table>\n",
       "<p>300 rows × 9 columns</p>\n",
       "</div>"
      ],
      "text/plain": [
       "    Split Corpus  Conversation ID  Turn IDX    Speaker  \\\n",
       "0    test   HOPE               10        14  Therapist   \n",
       "1    test   HOPE               10        14  Therapist   \n",
       "2    test   HOPE               10        14  Therapist   \n",
       "3    test   HOPE               20         2  Therapist   \n",
       "4    test   HOPE               20         2  Therapist   \n",
       "..    ...    ...              ...       ...        ...   \n",
       "295  test   HOPE               37        22  Therapist   \n",
       "296  test   HOPE               37        22  Therapist   \n",
       "297  test   HOPE                7        10  Therapist   \n",
       "298  test   HOPE                7        10  Therapist   \n",
       "299  test   HOPE                7        10  Therapist   \n",
       "\n",
       "                                               Context  \\\n",
       "0    Therapist: All right, Chris, so I need to talk...   \n",
       "1    Therapist: All right, Chris, so I need to talk...   \n",
       "2    Therapist: All right, Chris, so I need to talk...   \n",
       "3    Therapist: What's going on? What are you feeli...   \n",
       "4    Therapist: What's going on? What are you feeli...   \n",
       "..                                                 ...   \n",
       "295  Therapist: Hello, Susan.\\nPatient: Hello\\nTher...   \n",
       "296  Therapist: Hello, Susan.\\nPatient: Hello\\nTher...   \n",
       "297  Therapist: How are you? Not well?\\nPatient: No...   \n",
       "298  Therapist: How are you? Not well?\\nPatient: No...   \n",
       "299  Therapist: How are you? Not well?\\nPatient: No...   \n",
       "\n",
       "                                          Last message  \\\n",
       "0                             Patient: Well, supermom.   \n",
       "1                             Patient: Well, supermom.   \n",
       "2                             Patient: Well, supermom.   \n",
       "3                         Patient: I'm feeling disgust   \n",
       "4                         Patient: I'm feeling disgust   \n",
       "..                                                 ...   \n",
       "295                               Patient: okay. Okay.   \n",
       "296                               Patient: okay. Okay.   \n",
       "297  Patient: Yeah. I was, I thought, you know, I e...   \n",
       "298  Patient: Yeah. I was, I thought, you know, I e...   \n",
       "299  Patient: Yeah. I was, I thought, you know, I e...   \n",
       "\n",
       "                                              Response          Model  \n",
       "0    Therapist: Yeah. So the issue again, is, I can...   Ground truth  \n",
       "1                                    Therapist: Sonny.          DLDLM  \n",
       "2                                Therapist: All right.  Therapy-DLDLM  \n",
       "3                       Therapist: Disgust about what.   Ground truth  \n",
       "4                              Therapist: Really? Why?          DLDLM  \n",
       "..                                                 ...            ...  \n",
       "295  Therapist: Okay, so like a little confession. ...          DLDLM  \n",
       "296  Therapist: So I have a lot of things that I ne...  Therapy-DLDLM  \n",
       "297  Therapist: and that's not gonna happen. No, no...   Ground truth  \n",
       "298  Therapist: Yeah. You should talk to the manage...          DLDLM  \n",
       "299                                  Therapist: I see.  Therapy-DLDLM  \n",
       "\n",
       "[300 rows x 9 columns]"
      ]
     },
     "execution_count": 21,
     "metadata": {},
     "output_type": "execute_result"
    }
   ],
   "source": [
    "out_df = pd.DataFrame(out_data, columns=OUT_DF_COLUMNS)\n",
    "out_df"
   ]
  },
  {
   "cell_type": "markdown",
   "metadata": {
    "pycharm": {
     "name": "#%% md\n"
    }
   },
   "source": [
    "### Serialise data"
   ]
  },
  {
   "cell_type": "code",
   "execution_count": 22,
   "metadata": {
    "collapsed": false,
    "jupyter": {
     "outputs_hidden": false
    },
    "pycharm": {
     "name": "#%%\n"
    }
   },
   "outputs": [],
   "source": [
    "out_df.to_csv(os.path.join(DATA_PATH, 'therapy_dldlm_empathy_assessment_samples.csv'), index=False)"
   ]
  },
  {
   "cell_type": "code",
   "execution_count": null,
   "metadata": {},
   "outputs": [],
   "source": []
  }
 ],
 "metadata": {
  "kernelspec": {
   "display_name": "Python 3 (ipykernel)",
   "language": "python",
   "name": "python3"
  },
  "language_info": {
   "codemirror_mode": {
    "name": "ipython",
    "version": 3
   },
   "file_extension": ".py",
   "mimetype": "text/x-python",
   "name": "python",
   "nbconvert_exporter": "python",
   "pygments_lexer": "ipython3",
   "version": "3.10.4"
  }
 },
 "nbformat": 4,
 "nbformat_minor": 4
}
